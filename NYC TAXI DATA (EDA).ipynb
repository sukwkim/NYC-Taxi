{
 "cells": [
  {
   "cell_type": "code",
   "execution_count": 1,
   "metadata": {},
   "outputs": [],
   "source": [
    "import pandas as pd\n",
    "import csv\n",
    "import os\n",
    "import pandas as pd\n",
    "import numpy as np\n",
    "import math\n",
    "import os,sys\n",
    "import pandas as pd\n",
    "import pickle\n",
    "\n"
   ]
  },
  {
   "cell_type": "markdown",
   "metadata": {},
   "source": [
    "# Loading September 2015 green taxi data"
   ]
  },
  {
   "cell_type": "markdown",
   "metadata": {},
   "source": [
    "There are 1494926 rows and 21 columns in green cap September 2015 data."
   ]
  },
  {
   "cell_type": "code",
   "execution_count": 2,
   "metadata": {},
   "outputs": [],
   "source": [
    "green_2015_09 =pd.read_csv(\"/Users/kimjisun/Documents/simonKim/green_tripdata_2015-09.csv\")"
   ]
  },
  {
   "cell_type": "code",
   "execution_count": 3,
   "metadata": {},
   "outputs": [
    {
     "name": "stdout",
     "output_type": "stream",
     "text": [
      "(1494926, 21)\n"
     ]
    }
   ],
   "source": [
    "print green_2015_09.shape"
   ]
  },
  {
   "cell_type": "markdown",
   "metadata": {},
   "source": [
    "## Histogram of the number of the trip distances.   "
   ]
  },
  {
   "cell_type": "code",
   "execution_count": 4,
   "metadata": {},
   "outputs": [],
   "source": [
    "import matplotlib.pyplot as plt\n",
    "import math \n",
    "fig=plt.figure(figsize=(20,10))"
   ]
  },
  {
   "cell_type": "code",
   "execution_count": 5,
   "metadata": {},
   "outputs": [
    {
     "data": {
      "text/plain": [
       "count    1.494926e+06\n",
       "mean     2.968141e+00\n",
       "std      3.076621e+00\n",
       "min      0.000000e+00\n",
       "25%      1.100000e+00\n",
       "50%      1.980000e+00\n",
       "75%      3.740000e+00\n",
       "max      6.031000e+02\n",
       "Name: Trip_distance, dtype: float64"
      ]
     },
     "execution_count": 5,
     "metadata": {},
     "output_type": "execute_result"
    }
   ],
   "source": [
    "#Distribution of Trip_distance\n",
    "green_2015_09['Trip_distance'].describe()"
   ]
  },
  {
   "cell_type": "code",
   "execution_count": 6,
   "metadata": {},
   "outputs": [
    {
     "data": {
      "image/png": "[encoded data removed]",
      "text/plain": [
       "<Figure size 432x288 with 1 Axes>"
      ]
     },
     "metadata": {
      "needs_background": "light"
     },
     "output_type": "display_data"
    }
   ],
   "source": [
    "#We can see tht there are some extreme outliers in the data\n",
    "hist_green = green_2015_09[['Trip_distance']].hist(bins=30)"
   ]
  },
  {
   "cell_type": "markdown",
   "metadata": {},
   "source": [
    "I removed some outliers by using IQR method  Q3 + 1.5*(Q3- Q1) to check the details about the distribution."
   ]
  },
  {
   "cell_type": "code",
   "execution_count": 7,
   "metadata": {},
   "outputs": [],
   "source": [
    "green_outlier_thresh= 3.74 + 1.5*(3.74 - 1.1)\n",
    "filtered_trip_distance_green = green_2015_09.loc[green_2015_09['Trip_distance'] <= green_outlier_thresh, 'Trip_distance']"
   ]
  },
  {
   "cell_type": "code",
   "execution_count": 8,
   "metadata": {},
   "outputs": [
    {
     "data": {
      "text/plain": [
       "<matplotlib.axes._subplots.AxesSubplot at 0x1176f05d0>"
      ]
     },
     "execution_count": 8,
     "metadata": {},
     "output_type": "execute_result"
    },
    {
     "data": {
      "image/png": "[encoded data removed]",
      "text/plain": [
       "<Figure size 432x288 with 1 Axes>"
      ]
     },
     "metadata": {
      "needs_background": "light"
     },
     "output_type": "display_data"
    }
   ],
   "source": [
    "filtered_trip_distance_green.hist(bins=30)"
   ]
  },
  {
   "cell_type": "markdown",
   "metadata": {},
   "source": [
    "## About Structure  "
   ]
  },
  {
   "cell_type": "markdown",
   "metadata": {},
   "source": [
    "We can see that the distributions of the trip distance is highly right skewed. Thus it has a really long tail even after we removed some extreme outliers.  "
   ]
  },
  {
   "cell_type": "markdown",
   "metadata": {},
   "source": [
    "Through this structure, I made a following hypothesis\n",
    "\n",
    "\"Top 20% of passengers in trip distances generated roughly 40%~50% of total trip distances from all passengers in September 2015.\"\n",
    "\n",
    "\"Additionally, I could also say top 20% of passengers in trip distances generated roughly 40%~50% of total amount charged to the all passengers in September 2015 because usually total amount charged proportional to trip distance\" "
   ]
  },
  {
   "cell_type": "code",
   "execution_count": 10,
   "metadata": {},
   "outputs": [
    {
     "data": {
      "text/html": [
       "<div>\n",
       "<style scoped>\n",
       "    .dataframe tbody tr th:only-of-type {\n",
       "        vertical-align: middle;\n",
       "    }\n",
       "\n",
       "    .dataframe tbody tr th {\n",
       "        vertical-align: top;\n",
       "    }\n",
       "\n",
       "    .dataframe thead th {\n",
       "        text-align: right;\n",
       "    }\n",
       "</style>\n",
       "<table border=\"1\" class=\"dataframe\">\n",
       "  <thead>\n",
       "    <tr style=\"text-align: right;\">\n",
       "      <th></th>\n",
       "      <th>Trip_distance</th>\n",
       "    </tr>\n",
       "  </thead>\n",
       "  <tbody>\n",
       "    <tr>\n",
       "      <th>0.50</th>\n",
       "      <td>1.98</td>\n",
       "    </tr>\n",
       "    <tr>\n",
       "      <th>0.75</th>\n",
       "      <td>3.74</td>\n",
       "    </tr>\n",
       "    <tr>\n",
       "      <th>0.80</th>\n",
       "      <td>4.38</td>\n",
       "    </tr>\n",
       "    <tr>\n",
       "      <th>0.90</th>\n",
       "      <td>6.55</td>\n",
       "    </tr>\n",
       "  </tbody>\n",
       "</table>\n",
       "</div>"
      ],
      "text/plain": [
       "      Trip_distance\n",
       "0.50           1.98\n",
       "0.75           3.74\n",
       "0.80           4.38\n",
       "0.90           6.55"
      ]
     },
     "execution_count": 10,
     "metadata": {},
     "output_type": "execute_result"
    }
   ],
   "source": [
    "green_2015_09[['Trip_distance']].quantile([0.5,0.75,0.8,0.9])"
   ]
  },
  {
   "cell_type": "code",
   "execution_count": 20,
   "metadata": {},
   "outputs": [
    {
     "data": {
      "text/html": [
       "<div>\n",
       "<style scoped>\n",
       "    .dataframe tbody tr th:only-of-type {\n",
       "        vertical-align: middle;\n",
       "    }\n",
       "\n",
       "    .dataframe tbody tr th {\n",
       "        vertical-align: top;\n",
       "    }\n",
       "\n",
       "    .dataframe thead th {\n",
       "        text-align: right;\n",
       "    }\n",
       "</style>\n",
       "<table border=\"1\" class=\"dataframe\">\n",
       "  <thead>\n",
       "    <tr style=\"text-align: right;\">\n",
       "      <th></th>\n",
       "      <th>Trip_distance</th>\n",
       "    </tr>\n",
       "  </thead>\n",
       "  <tbody>\n",
       "    <tr>\n",
       "      <th>0.50</th>\n",
       "      <td>1.80</td>\n",
       "    </tr>\n",
       "    <tr>\n",
       "      <th>0.75</th>\n",
       "      <td>3.24</td>\n",
       "    </tr>\n",
       "    <tr>\n",
       "      <th>0.80</th>\n",
       "      <td>3.70</td>\n",
       "    </tr>\n",
       "    <tr>\n",
       "      <th>0.90</th>\n",
       "      <td>5.01</td>\n",
       "    </tr>\n",
       "  </tbody>\n",
       "</table>\n",
       "</div>"
      ],
      "text/plain": [
       "      Trip_distance\n",
       "0.50           1.80\n",
       "0.75           3.24\n",
       "0.80           3.70\n",
       "0.90           5.01"
      ]
     },
     "execution_count": 20,
     "metadata": {},
     "output_type": "execute_result"
    }
   ],
   "source": [
    "filtered_trip_distance_green[['Trip_distance']].quantile([0.5,0.75,0.8,0.9])"
   ]
  },
  {
   "cell_type": "code",
   "execution_count": 4,
   "metadata": {},
   "outputs": [
    {
     "name": "stdout",
     "output_type": "stream",
     "text": [
      "Total distances from below 50% of users: 816619.8799999998 miles\n",
      "Total fare from below 50% of users: $ 6476993.249999999\n"
     ]
    }
   ],
   "source": [
    "print \"Total distances from below 50% of users: \" + str(green_2015_09[green_2015_09['Trip_distance']<=1.98]['Trip_distance'].sum()) + \" miles\"\n",
    "print \"Total fare from below 50% of users: $ \" + str(green_2015_09[green_2015_09['Trip_distance']<=1.98]['Total_amount'].sum())"
   ]
  },
  {
   "cell_type": "code",
   "execution_count": 5,
   "metadata": {},
   "outputs": [
    {
     "name": "stdout",
     "output_type": "stream",
     "text": [
      "Total distances from mid 30% of users: 1323828.52 miles\n",
      "Total fare from mid 30% of users: $6835716.8500000015\n"
     ]
    }
   ],
   "source": [
    "print \"Total distances from mid 30% of users: \" + str(green_2015_09[(green_2015_09['Trip_distance']>1.98) & (green_2015_09['Trip_distance']<=4.38) ]['Trip_distance'].sum()) + \" miles\"\n",
    "print \"Total fare from mid 30% of users: $\" + str(green_2015_09[(green_2015_09['Trip_distance']>1.98) & (green_2015_09['Trip_distance']<=4.38) ]['Total_amount'].sum())"
   ]
  },
  {
   "cell_type": "code",
   "execution_count": 6,
   "metadata": {},
   "outputs": [
    {
     "name": "stdout",
     "output_type": "stream",
     "text": [
      "Total distances from top 10% of users: 2296702.5300000003 miles\n",
      "Total fare from top 10%  of users: $ 9159235.42\n"
     ]
    }
   ],
   "source": [
    "print \"Total distances from top 10% of users: \" + str(green_2015_09[green_2015_09['Trip_distance']>4.38]['Trip_distance'].sum()) + \" miles\" \n",
    "print \"Total fare from top 10%  of users: $ \" + str(green_2015_09[(green_2015_09['Trip_distance']>4.38) ]['Total_amount'].sum())"
   ]
  },
  {
   "cell_type": "code",
   "execution_count": 26,
   "metadata": {},
   "outputs": [
    {
     "data": {
      "image/png": "[encoded data removed]",
      "text/plain": [
       "<Figure size 1080x504 with 2 Axes>"
      ]
     },
     "metadata": {},
     "output_type": "display_data"
    }
   ],
   "source": [
    "df = pd.DataFrame({'total_distance': [816619.88, 1323828.52, 2296702.53],\n",
    "                  'total_amount': [6476993.249999999, 6835716.8500000015, 9159235.42]},\n",
    "                   index=['Below 50%', 'Mid 30%', 'Top 20%'])\n",
    "\n",
    "total_distance = pd.DataFrame(data=df)\n",
    "#total_distance.plot.pie(y='total_distance')\n",
    "plot = df.plot.pie(subplots=True, figsize=(15, 7))"
   ]
  },
  {
   "cell_type": "code",
   "execution_count": 30,
   "metadata": {},
   "outputs": [
    {
     "name": "stdout",
     "output_type": "stream",
     "text": [
      "Total trip miles from all passengers: 4437150.93 miles\n",
      "Passengers in Below 50%: 18.4041492589 % of total trip distances from all passengers \n",
      "Passengers in mid 30%: 29.8351023187 % of total trip distances from all passengers \n",
      "Passengers in top 20%: 51.7607484224 % of total trip distances from all passengers \n"
     ]
    }
   ],
   "source": [
    "#Trip Distance\n",
    "total= 816619.8799999998 + 1323828.52 + 2296702.5300000003\n",
    "print \"Total trip miles from all passengers: \"+ str(total) + \" miles\"\n",
    "print 'Passengers in Below 50%: ' + str(816619.8799999998/total * 100 )+ \" % of total trip distances from all passengers \"\n",
    "print 'Passengers in mid 30%: ' + str(1323828.52/total * 100) + \" % of total trip distances from all passengers \"\n",
    "print 'Passengers in top 20%: ' + str(2296702.5300000003/total  * 100) + \" % of total trip distances from all passengers \""
   ]
  },
  {
   "cell_type": "code",
   "execution_count": 31,
   "metadata": {},
   "outputs": [
    {
     "name": "stdout",
     "output_type": "stream",
     "text": [
      "Total amount charged from all passengers: $22471945.52\n",
      "Passengers in Below 50%: 28.8225745485 % of total amount charged from all passengers \n",
      "Passengers in Below 50%: 30.4188920533 % of total amount charged from all passengers \n",
      "Passengers in top 20%: 40.7585333982 % of total amount charged from all passengers \n"
     ]
    }
   ],
   "source": [
    "#Total_amount\n",
    "total= 6476993.249999999 + 6835716.8500000015 + 9159235.42\n",
    "print \"Total amount charged from all passengers: $\"+  str(total)\n",
    "print 'Passengers in Below 50%: ' + str(6476993.249999999/total * 100) + \" % of total amount charged from all passengers \"\n",
    "print 'Passengers in Below 50%: ' + str(6835716.8500000015/total* 100) + \" % of total amount charged from all passengers \"\n",
    "print 'Passengers in top 20%: ' + str(9159235.42/total * 100) + \" % of total amount charged from all passengers \""
   ]
  },
  {
   "cell_type": "markdown",
   "metadata": {},
   "source": [
    "### Future works"
   ]
  },
  {
   "cell_type": "markdown",
   "metadata": {},
   "source": [
    "* Additional analysis to check some abnormal data\n",
    "* Comfirm that whether these abnormal data make sense or not.\n",
    "* Check the hypothesis still hold after the above process."
   ]
  },
  {
   "cell_type": "code",
   "execution_count": 13,
   "metadata": {},
   "outputs": [],
   "source": [
    "green_outlier_thresh= 3.74 + 1.5*(3.74 - 1.1)\n",
    "filtered_trip_distance_green = green_2015_09.loc[green_2015_09['Trip_distance'] <= green_outlier_thresh]"
   ]
  },
  {
   "cell_type": "code",
   "execution_count": 14,
   "metadata": {},
   "outputs": [
    {
     "data": {
      "text/plain": [
       "0.50    1.80\n",
       "0.75    3.24\n",
       "0.80    3.70\n",
       "0.90    5.01\n",
       "Name: Trip_distance, dtype: float64"
      ]
     },
     "execution_count": 14,
     "metadata": {},
     "output_type": "execute_result"
    }
   ],
   "source": [
    "filtered_trip_distance_green['Trip_distance'].quantile([0.5,0.75,0.8,0.9])"
   ]
  },
  {
   "cell_type": "code",
   "execution_count": 17,
   "metadata": {},
   "outputs": [
    {
     "name": "stdout",
     "output_type": "stream",
     "text": [
      "Total distances from below 50% of users: 715707.26 miles\n",
      "Total fare from below 50% of users: $ 5874042.170000002\n"
     ]
    }
   ],
   "source": [
    "print \"Total distances from below 50% of users: \" + str(green_2015_09[green_2015_09['Trip_distance']<=1.8]['Trip_distance'].sum()) + \" miles\"\n",
    "print \"Total fare from below 50% of users: $ \" + str(green_2015_09[green_2015_09['Trip_distance']<=1.8]['Total_amount'].sum())"
   ]
  },
  {
   "cell_type": "code",
   "execution_count": 15,
   "metadata": {},
   "outputs": [
    {
     "name": "stdout",
     "output_type": "stream",
     "text": [
      "Total distances from mid 30% of users: 853211.0399999998 miles\n",
      "Total fare from mid 30% of users: $4669996.34\n"
     ]
    }
   ],
   "source": [
    "print \"Total distances from mid 30% of users: \" + str(filtered_trip_distance_green[(filtered_trip_distance_green['Trip_distance']>1.8) & (filtered_trip_distance_green['Trip_distance']<=3.24) ]['Trip_distance'].sum()) + \" miles\"\n",
    "print \"Total fare from mid 30% of users: $\" + str(filtered_trip_distance_green[(filtered_trip_distance_green['Trip_distance']>1.8) & (filtered_trip_distance_green['Trip_distance']<=3.24) ]['Total_amount'].sum())"
   ]
  },
  {
   "cell_type": "code",
   "execution_count": 16,
   "metadata": {},
   "outputs": [
    {
     "name": "stdout",
     "output_type": "stream",
     "text": [
      "Total distances from top 10% of users: 1694545.31 miles\n",
      "Total fare from top 10%  of users: $ 7589940.450000001\n"
     ]
    }
   ],
   "source": [
    "print \"Total distances from top 10% of users: \" + str(filtered_trip_distance_green[filtered_trip_distance_green['Trip_distance']>3.24]['Trip_distance'].sum()) + \" miles\" \n",
    "print \"Total fare from top 10%  of users: $ \" + str(filtered_trip_distance_green[(filtered_trip_distance_green['Trip_distance']>3.24) ]['Total_amount'].sum())"
   ]
  },
  {
   "cell_type": "code",
   "execution_count": 18,
   "metadata": {},
   "outputs": [
    {
     "name": "stdout",
     "output_type": "stream",
     "text": [
      "Total trip miles from all passengers: 3263463.61 miles\n",
      "Passengers in Below 50%: 21.9309097796 % of total trip distances from all passengers \n",
      "Passengers in mid 30%: 26.1443405523 % of total trip distances from all passengers \n",
      "Passengers in top 20%: 51.924749668 % of total trip distances from all passengers \n"
     ]
    }
   ],
   "source": [
    "#Trip Distance\n",
    "total= 715707.26 + 853211.0399999998 +1694545.31\n",
    "print \"Total trip miles from all passengers: \"+ str(total) + \" miles\"\n",
    "print 'Passengers in Below 50%: ' + str(715707.26/total * 100 )+ \" % of total trip distances from all passengers \"\n",
    "print 'Passengers in mid 30%: ' + str(853211.0399999998/total * 100) + \" % of total trip distances from all passengers \"\n",
    "print 'Passengers in top 20%: ' + str(1694545.31/total  * 100) + \" % of total trip distances from all passengers \""
   ]
  },
  {
   "cell_type": "code",
   "execution_count": 19,
   "metadata": {},
   "outputs": [
    {
     "name": "stdout",
     "output_type": "stream",
     "text": [
      "Total amount charged from all passengers: $18133978.96\n",
      "Passengers in Below 50%: 32.3924615935 % of total amount charged from all passengers \n",
      "Passengers in Below 50%: 25.7527393756 % of total amount charged from all passengers \n",
      "Passengers in top 20%: 41.8547990308 % of total amount charged from all passengers \n"
     ]
    }
   ],
   "source": [
    "#Total_amount\n",
    "total= 5874042.170000002 + 4669996.34 + 7589940.450000001\n",
    "print \"Total amount charged from all passengers: $\"+  str(total)\n",
    "print 'Passengers in Below 50%: ' + str(5874042.170000002/total * 100) + \" % of total amount charged from all passengers \"\n",
    "print 'Passengers in Below 50%: ' + str(4669996.34/total* 100) + \" % of total amount charged from all passengers \"\n",
    "print 'Passengers in top 20%: ' + str(7589940.450000001/total * 100) + \" % of total amount charged from all passengers \""
   ]
  },
  {
   "cell_type": "code",
   "execution_count": 21,
   "metadata": {},
   "outputs": [
    {
     "data": {
      "image/png": "[encoded data removed]",
      "text/plain": [
       "<Figure size 1080x504 with 2 Axes>"
      ]
     },
     "metadata": {},
     "output_type": "display_data"
    }
   ],
   "source": [
    "df = pd.DataFrame({'total_distance': [715707.26, 853211.0399999998, 1694545.31],\n",
    "                  'total_amount': [5874042.170000002 , 4669996.34 , 7589940.450000001]},\n",
    "                   index=['Below 50%', 'Mid 30%', 'Top 20%'])\n",
    "\n",
    "total_distance = pd.DataFrame(data=df)\n",
    "#total_distance.plot.pie(y='total_distance')\n",
    "plot = df.plot.pie(subplots=True, figsize=(15, 7))"
   ]
  },
  {
   "cell_type": "markdown",
   "metadata": {},
   "source": [
    "## Mean and Median trip distance grouped by hour of day."
   ]
  },
  {
   "cell_type": "markdown",
   "metadata": {},
   "source": [
    "We can see that trip distance mean of 5 am and 6 am are longest and trip distance are different by hour of day."
   ]
  },
  {
   "cell_type": "code",
   "execution_count": 32,
   "metadata": {},
   "outputs": [],
   "source": [
    "green_2015_09['tpep_pickup_hour'] = green_2015_09['lpep_pickup_datetime'].apply(lambda x: x[11:13])"
   ]
  },
  {
   "cell_type": "code",
   "execution_count": 33,
   "metadata": {},
   "outputs": [],
   "source": [
    "green_info = green_2015_09[['tpep_pickup_hour','Trip_distance']].groupby(['tpep_pickup_hour']).agg(['mean','median']).reset_index()"
   ]
  },
  {
   "cell_type": "markdown",
   "metadata": {},
   "source": [
    "We could see that trip distance mean of 5 am and 6 am are longest and trip distance are different by hour of day."
   ]
  },
  {
   "cell_type": "code",
   "execution_count": 39,
   "metadata": {},
   "outputs": [
    {
     "data": {
      "text/html": [
       "<div>\n",
       "<style scoped>\n",
       "    .dataframe tbody tr th:only-of-type {\n",
       "        vertical-align: middle;\n",
       "    }\n",
       "\n",
       "    .dataframe tbody tr th {\n",
       "        vertical-align: top;\n",
       "    }\n",
       "\n",
       "    .dataframe thead tr th {\n",
       "        text-align: left;\n",
       "    }\n",
       "</style>\n",
       "<table border=\"1\" class=\"dataframe\">\n",
       "  <thead>\n",
       "    <tr>\n",
       "      <th></th>\n",
       "      <th>tpep_pickup_hour</th>\n",
       "      <th colspan=\"2\" halign=\"left\">Trip_distance</th>\n",
       "    </tr>\n",
       "    <tr>\n",
       "      <th></th>\n",
       "      <th></th>\n",
       "      <th>mean</th>\n",
       "      <th>median</th>\n",
       "    </tr>\n",
       "  </thead>\n",
       "  <tbody>\n",
       "    <tr>\n",
       "      <th>0</th>\n",
       "      <td>00</td>\n",
       "      <td>3.115276</td>\n",
       "      <td>2.20</td>\n",
       "    </tr>\n",
       "    <tr>\n",
       "      <th>1</th>\n",
       "      <td>01</td>\n",
       "      <td>3.017347</td>\n",
       "      <td>2.12</td>\n",
       "    </tr>\n",
       "    <tr>\n",
       "      <th>2</th>\n",
       "      <td>02</td>\n",
       "      <td>3.046176</td>\n",
       "      <td>2.14</td>\n",
       "    </tr>\n",
       "    <tr>\n",
       "      <th>3</th>\n",
       "      <td>03</td>\n",
       "      <td>3.212945</td>\n",
       "      <td>2.20</td>\n",
       "    </tr>\n",
       "    <tr>\n",
       "      <th>4</th>\n",
       "      <td>04</td>\n",
       "      <td>3.526555</td>\n",
       "      <td>2.36</td>\n",
       "    </tr>\n",
       "    <tr>\n",
       "      <th>5</th>\n",
       "      <td>05</td>\n",
       "      <td>4.133474</td>\n",
       "      <td>2.90</td>\n",
       "    </tr>\n",
       "    <tr>\n",
       "      <th>6</th>\n",
       "      <td>06</td>\n",
       "      <td>4.055149</td>\n",
       "      <td>2.84</td>\n",
       "    </tr>\n",
       "    <tr>\n",
       "      <th>7</th>\n",
       "      <td>07</td>\n",
       "      <td>3.284394</td>\n",
       "      <td>2.17</td>\n",
       "    </tr>\n",
       "    <tr>\n",
       "      <th>8</th>\n",
       "      <td>08</td>\n",
       "      <td>3.048450</td>\n",
       "      <td>1.98</td>\n",
       "    </tr>\n",
       "    <tr>\n",
       "      <th>9</th>\n",
       "      <td>09</td>\n",
       "      <td>2.999105</td>\n",
       "      <td>1.96</td>\n",
       "    </tr>\n",
       "    <tr>\n",
       "      <th>10</th>\n",
       "      <td>10</td>\n",
       "      <td>2.944482</td>\n",
       "      <td>1.92</td>\n",
       "    </tr>\n",
       "    <tr>\n",
       "      <th>11</th>\n",
       "      <td>11</td>\n",
       "      <td>2.912015</td>\n",
       "      <td>1.88</td>\n",
       "    </tr>\n",
       "    <tr>\n",
       "      <th>12</th>\n",
       "      <td>12</td>\n",
       "      <td>2.903065</td>\n",
       "      <td>1.89</td>\n",
       "    </tr>\n",
       "    <tr>\n",
       "      <th>13</th>\n",
       "      <td>13</td>\n",
       "      <td>2.878294</td>\n",
       "      <td>1.84</td>\n",
       "    </tr>\n",
       "    <tr>\n",
       "      <th>14</th>\n",
       "      <td>14</td>\n",
       "      <td>2.864304</td>\n",
       "      <td>1.83</td>\n",
       "    </tr>\n",
       "    <tr>\n",
       "      <th>15</th>\n",
       "      <td>15</td>\n",
       "      <td>2.857040</td>\n",
       "      <td>1.81</td>\n",
       "    </tr>\n",
       "    <tr>\n",
       "      <th>16</th>\n",
       "      <td>16</td>\n",
       "      <td>2.779852</td>\n",
       "      <td>1.80</td>\n",
       "    </tr>\n",
       "    <tr>\n",
       "      <th>17</th>\n",
       "      <td>17</td>\n",
       "      <td>2.679114</td>\n",
       "      <td>1.78</td>\n",
       "    </tr>\n",
       "    <tr>\n",
       "      <th>18</th>\n",
       "      <td>18</td>\n",
       "      <td>2.653222</td>\n",
       "      <td>1.80</td>\n",
       "    </tr>\n",
       "    <tr>\n",
       "      <th>19</th>\n",
       "      <td>19</td>\n",
       "      <td>2.715597</td>\n",
       "      <td>1.85</td>\n",
       "    </tr>\n",
       "    <tr>\n",
       "      <th>20</th>\n",
       "      <td>20</td>\n",
       "      <td>2.777052</td>\n",
       "      <td>1.90</td>\n",
       "    </tr>\n",
       "    <tr>\n",
       "      <th>21</th>\n",
       "      <td>21</td>\n",
       "      <td>2.999189</td>\n",
       "      <td>2.03</td>\n",
       "    </tr>\n",
       "    <tr>\n",
       "      <th>22</th>\n",
       "      <td>22</td>\n",
       "      <td>3.185394</td>\n",
       "      <td>2.20</td>\n",
       "    </tr>\n",
       "    <tr>\n",
       "      <th>23</th>\n",
       "      <td>23</td>\n",
       "      <td>3.191538</td>\n",
       "      <td>2.22</td>\n",
       "    </tr>\n",
       "  </tbody>\n",
       "</table>\n",
       "</div>"
      ],
      "text/plain": [
       "   tpep_pickup_hour Trip_distance       \n",
       "                             mean median\n",
       "0                00      3.115276   2.20\n",
       "1                01      3.017347   2.12\n",
       "2                02      3.046176   2.14\n",
       "3                03      3.212945   2.20\n",
       "4                04      3.526555   2.36\n",
       "5                05      4.133474   2.90\n",
       "6                06      4.055149   2.84\n",
       "7                07      3.284394   2.17\n",
       "8                08      3.048450   1.98\n",
       "9                09      2.999105   1.96\n",
       "10               10      2.944482   1.92\n",
       "11               11      2.912015   1.88\n",
       "12               12      2.903065   1.89\n",
       "13               13      2.878294   1.84\n",
       "14               14      2.864304   1.83\n",
       "15               15      2.857040   1.81\n",
       "16               16      2.779852   1.80\n",
       "17               17      2.679114   1.78\n",
       "18               18      2.653222   1.80\n",
       "19               19      2.715597   1.85\n",
       "20               20      2.777052   1.90\n",
       "21               21      2.999189   2.03\n",
       "22               22      3.185394   2.20\n",
       "23               23      3.191538   2.22"
      ]
     },
     "execution_count": 39,
     "metadata": {},
     "output_type": "execute_result"
    }
   ],
   "source": [
    "green_info"
   ]
  },
  {
   "cell_type": "code",
   "execution_count": 38,
   "metadata": {},
   "outputs": [
    {
     "data": {
      "text/plain": [
       "<matplotlib.axes._subplots.AxesSubplot at 0x1122d8390>"
      ]
     },
     "execution_count": 38,
     "metadata": {},
     "output_type": "execute_result"
    },
    {
     "data": {
      "image/png": "[encoded data removed]",
      "text/plain": [
       "<Figure size 1080x504 with 1 Axes>"
      ]
     },
     "metadata": {
      "needs_background": "light"
     },
     "output_type": "display_data"
    }
   ],
   "source": [
    "green_info.plot.bar(figsize=(15, 7))"
   ]
  },
  {
   "cell_type": "markdown",
   "metadata": {},
   "source": [
    "# Airport"
   ]
  },
  {
   "cell_type": "markdown",
   "metadata": {},
   "source": [
    "To get a list trips for NYC area airports (JFK, Newark), I used a final ratecode info (RateCodeID =2,3). \n",
    "When we check the dropoff location of the trips whose RateCodeID =2,3, we could see that most of them are located at JFK and Newark airport. However, there could be some trips that taxi drivers didn't need to use their taximeter such as a trip with flat fares, I didn't remove the cases whose dropoff locations are not around JFK and Newark airport but RateCodeID =2,3."
   ]
  },
  {
   "cell_type": "markdown",
   "metadata": {},
   "source": [
    "### Summary "
   ]
  },
  {
   "cell_type": "markdown",
   "metadata": {},
   "source": [
    "1. The number of trips/trasactions for Airport: 5552\n",
    "2. The average total amount for Airport trips:  \\$ 57.2\n",
    "3. The average tip amount for Airport trips: \\$ 4.35 \n",
    "\n"
   ]
  },
  {
   "cell_type": "code",
   "execution_count": 85,
   "metadata": {},
   "outputs": [
    {
     "data": {
      "image/png": "[encoded data removed]",
      "text/plain": [
       "<Figure size 576x360 with 2 Axes>"
      ]
     },
     "metadata": {
      "needs_background": "light"
     },
     "output_type": "display_data"
    }
   ],
   "source": [
    "from matplotlib.colors import LogNorm\n",
    "green_airport_rides = green_2015_09[(green_2015_09['RateCodeID'] == 2) | (green_2015_09['RateCodeID'] == 3)]\n",
    "latmin = 40.48\n",
    "lonmin = -74.28\n",
    "latmax = 40.93\n",
    "lonmax = -73.65\n",
    "fig = plt.figure(1, figsize=(8,5) )\n",
    "hist = plt.hist2d(green_airport_rides['Dropoff_longitude'],green_airport_rides['Dropoff_latitude'],bins=199,range=[[lonmin,lonmax],[latmin,latmax]],norm=LogNorm())\n",
    "plt.xlabel('Longitude [degrees]')\n",
    "plt.ylabel('Latitude [degrees]')\n",
    "plt.title('Green cap Airport dropoff Locations')\n",
    "plt.colorbar(label='Number')\n",
    "plt.show()"
   ]
  },
  {
   "cell_type": "code",
   "execution_count": 46,
   "metadata": {},
   "outputs": [
    {
     "name": "stdout",
     "output_type": "stream",
     "text": [
      "The Number of trips/trasactions  of green cap: 5552\n"
     ]
    }
   ],
   "source": [
    "print \"The Number of trips/trasactions  of green cap:\", green_airport_rides.shape[0]"
   ]
  },
  {
   "cell_type": "code",
   "execution_count": 47,
   "metadata": {},
   "outputs": [
    {
     "name": "stdout",
     "output_type": "stream",
     "text": [
      "The average fare of green cap: $ 57.208420389048996 48.976945244956774 4.353515850144093\n"
     ]
    }
   ],
   "source": [
    "#print \"The average fare of yellow cap: $\", yellow_airport_rides['total_amount'].mean(), yellow_airport_rides['fare_amount'].mean(), yellow_airport_rides['tip_amount'].mean()\n",
    "print \"The average fare of green cap: $\", green_airport_rides['Total_amount'].mean(), green_airport_rides['Fare_amount'].mean() ,green_airport_rides['Tip_amount'].mean()"
   ]
  },
  {
   "cell_type": "markdown",
   "metadata": {},
   "source": [
    "## Number of transaction by hours"
   ]
  },
  {
   "cell_type": "markdown",
   "metadata": {},
   "source": [
    "As you can see, 3:00 pm ~ 4:00 pm were the busiest hours for airport trips while 6:00 pm ~ 7:00 pm were the busiest in other trips. \n",
    "<br>\n",
    "Among airport trips , we could see the number of transactions by hourse are different by the airports.\n",
    "The trips for Newark airport were busiest between 2:00 pm ~ 3:00 pm while trips for JFK were busiest between 3:00 pm ~ 4:00 pm "
   ]
  },
  {
   "cell_type": "code",
   "execution_count": 86,
   "metadata": {},
   "outputs": [],
   "source": [
    "#green_2015_09\n",
    "green_nonairport_rides = green_2015_09[(green_2015_09['RateCodeID'] != 2) & (green_2015_09['RateCodeID'] != 3)]\n",
    "hour_transaction = green_nonairport_rides[['tpep_pickup_hour','VendorID']].groupby('tpep_pickup_hour').agg('count').reset_index().rename(columns={\"VendorID\":\"Num of non-airport transactions\"})"
   ]
  },
  {
   "cell_type": "code",
   "execution_count": 89,
   "metadata": {},
   "outputs": [],
   "source": [
    "#Num of airport transactions\n",
    "green_result = green_airport_rides[['tpep_pickup_hour','VendorID']].groupby('tpep_pickup_hour').agg('count').reset_index().rename(columns={\"VendorID\":\"Num of airport transactions\"})"
   ]
  },
  {
   "cell_type": "code",
   "execution_count": 91,
   "metadata": {},
   "outputs": [
    {
     "data": {
      "text/plain": [
       "<matplotlib.axes._subplots.AxesSubplot at 0x11d0044d0>"
      ]
     },
     "execution_count": 91,
     "metadata": {},
     "output_type": "execute_result"
    },
    {
     "data": {
      "image/png": "[encoded data removed]",
      "text/plain": [
       "<Figure size 1080x288 with 2 Axes>"
      ]
     },
     "metadata": {
      "needs_background": "light"
     },
     "output_type": "display_data"
    }
   ],
   "source": [
    "fig,ax = plt.subplots(1,2,figsize = (15,4))\n",
    "hour_transaction.plot.bar(x='tpep_pickup_hour', y='Num of non-airport transactions', rot=0, ax=ax[0])\n",
    "green_result.plot.bar(x='tpep_pickup_hour', y='Num of airport transactions', rot=0, ax=ax[1])"
   ]
  },
  {
   "cell_type": "code",
   "execution_count": 71,
   "metadata": {},
   "outputs": [],
   "source": [
    "green_jfk=  green_2015_09[(green_2015_09['RateCodeID'] == 2) ] \n",
    "                         "
   ]
  },
  {
   "cell_type": "code",
   "execution_count": 72,
   "metadata": {},
   "outputs": [],
   "source": [
    "green_jfk_2 = green_jfk[['tpep_pickup_hour','VendorID']].groupby('tpep_pickup_hour').agg('count').reset_index().rename(columns={\"VendorID\":\"Num of JFK transactions\"})"
   ]
  },
  {
   "cell_type": "code",
   "execution_count": 73,
   "metadata": {},
   "outputs": [],
   "source": [
    "green_newark=  green_2015_09[(green_2015_09['RateCodeID'] == 3) ] \n",
    "green_newark_2 = green_newark[['tpep_pickup_hour','VendorID']].groupby('tpep_pickup_hour').agg('count').reset_index().rename(columns={\"VendorID\":\"Num of Newark transactions\"})                       "
   ]
  },
  {
   "cell_type": "code",
   "execution_count": 75,
   "metadata": {},
   "outputs": [
    {
     "data": {
      "text/plain": [
       "<matplotlib.axes._subplots.AxesSubplot at 0x11bd43090>"
      ]
     },
     "execution_count": 75,
     "metadata": {},
     "output_type": "execute_result"
    },
    {
     "data": {
      "image/png": "[encoded data removed]",
      "text/plain": [
       "<Figure size 1080x288 with 2 Axes>"
      ]
     },
     "metadata": {
      "needs_background": "light"
     },
     "output_type": "display_data"
    }
   ],
   "source": [
    "fig,ax = plt.subplots(1,2,figsize = (15,4))\n",
    "green_jfk_2.plot.bar(x='tpep_pickup_hour', y='Num of JFK transactions', rot=0, ax=ax[0]) \n",
    "green_newark_2.plot.bar(x='tpep_pickup_hour', y='Num of Newark transactions', rot=0, ax=ax[1])   "
   ]
  },
  {
   "cell_type": "code",
   "execution_count": null,
   "metadata": {},
   "outputs": [],
   "source": []
  }
 ],
 "metadata": {
  "kernelspec": {
   "display_name": "Python 2",
   "language": "python",
   "name": "python2"
  },
  "language_info": {
   "codemirror_mode": {
    "name": "ipython",
    "version": 2
   },
   "file_extension": ".py",
   "mimetype": "text/x-python",
   "name": "python",
   "nbconvert_exporter": "python",
   "pygments_lexer": "ipython2",
   "version": "2.7.15"
  }
 },
 "nbformat": 4,
 "nbformat_minor": 2
}
