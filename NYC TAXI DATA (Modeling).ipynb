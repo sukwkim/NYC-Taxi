{
 "cells": [
  {
   "cell_type": "code",
   "execution_count": 2,
   "metadata": {},
   "outputs": [],
   "source": [
    "import pandas as pd\n",
    "import csv\n",
    "import os\n",
    "import pandas as pd\n",
    "import numpy as np\n",
    "import math\n",
    "import os,sys\n",
    "import pandas as pd\n",
    "import pickle\n",
    "import matplotlib.pyplot as plt\n",
    "\n"
   ]
  },
  {
   "cell_type": "code",
   "execution_count": 88,
   "metadata": {},
   "outputs": [],
   "source": [
    "green_2015_09 = pd.read_pickle(\"./green_2015_09 .pkl\")"
   ]
  },
  {
   "cell_type": "markdown",
   "metadata": {},
   "source": [
    "# Building a model for predicting tip_percent "
   ]
  },
  {
   "cell_type": "markdown",
   "metadata": {},
   "source": [
    "## Derive tip_percent feature"
   ]
  },
  {
   "cell_type": "code",
   "execution_count": 89,
   "metadata": {},
   "outputs": [],
   "source": [
    "#derive a tip percent feature\n",
    "green_2015_09['tip_percentage'] = green_2015_09['Tip_amount']/green_2015_09['Total_amount']"
   ]
  },
  {
   "cell_type": "code",
   "execution_count": 90,
   "metadata": {},
   "outputs": [],
   "source": [
    "#Since inital charge of a cap is $2.5, I will only use the data whose total charge is greater than 2.5.\n",
    "# https://www1.nyc.gov/site/tlc/passengers/taxi-fare.page\n",
    "green_2015_09 = green_2015_09[green_2015_09['Total_amount'] >= 2.5]"
   ]
  },
  {
   "cell_type": "code",
   "execution_count": 91,
   "metadata": {},
   "outputs": [
    {
     "data": {
      "text/plain": [
       "(1487767, 23)"
      ]
     },
     "execution_count": 91,
     "metadata": {},
     "output_type": "execute_result"
    }
   ],
   "source": [
    "green_2015_09.shape"
   ]
  },
  {
   "cell_type": "markdown",
   "metadata": {},
   "source": [
    "## Data Cleansing "
   ]
  },
  {
   "cell_type": "code",
   "execution_count": 92,
   "metadata": {},
   "outputs": [],
   "source": [
    "#A function return a list of column names of numerical features  and categorical features\n",
    "def get_cate_numeric_feature(input):\n",
    "    names = input.columns;\n",
    "    cate_data = []\n",
    "    numeric_data = []\n",
    "    for cur_name in names:\n",
    "        if input[cur_name].dtypes == 'O':\n",
    "            cate_data.append(cur_name)\n",
    "        else:\n",
    "            numeric_data.append(cur_name)\n",
    "    return [cate_data, numeric_data]\n",
    "    "
   ]
  },
  {
   "cell_type": "code",
   "execution_count": 93,
   "metadata": {},
   "outputs": [],
   "source": [
    "output = get_cate_numeric_feature(green_2015_09)\n",
    "cate_data = output[0]\n",
    "numeric_data = output[1]"
   ]
  },
  {
   "cell_type": "code",
   "execution_count": 94,
   "metadata": {},
   "outputs": [
    {
     "data": {
      "text/plain": [
       "(1487767, 23)"
      ]
     },
     "execution_count": 94,
     "metadata": {},
     "output_type": "execute_result"
    }
   ],
   "source": [
    "green_2015_09.shape"
   ]
  },
  {
   "cell_type": "code",
   "execution_count": 95,
   "metadata": {},
   "outputs": [],
   "source": [
    "numeric_data.remove('VendorID')\n",
    "numeric_data.remove('RateCodeID')\n",
    "numeric_data.remove('Ehail_fee')"
   ]
  },
  {
   "cell_type": "code",
   "execution_count": 96,
   "metadata": {},
   "outputs": [],
   "source": [
    "cate_data.append('RateCodeID')\n",
    "cate_data.append('VendorID')"
   ]
  },
  {
   "cell_type": "code",
   "execution_count": 12,
   "metadata": {},
   "outputs": [
    {
     "data": {
      "text/plain": [
       "['Pickup_longitude',\n",
       " 'Pickup_latitude',\n",
       " 'Dropoff_longitude',\n",
       " 'Dropoff_latitude',\n",
       " 'Passenger_count',\n",
       " 'Trip_distance',\n",
       " 'Fare_amount',\n",
       " 'Extra',\n",
       " 'MTA_tax',\n",
       " 'Tip_amount',\n",
       " 'Tolls_amount',\n",
       " 'improvement_surcharge',\n",
       " 'Total_amount',\n",
       " 'Payment_type',\n",
       " 'Trip_type ',\n",
       " 'tip_percentage']"
      ]
     },
     "execution_count": 12,
     "metadata": {},
     "output_type": "execute_result"
    }
   ],
   "source": [
    "numeric_data"
   ]
  },
  {
   "cell_type": "markdown",
   "metadata": {},
   "source": [
    "### Distribution of Categorical features "
   ]
  },
  {
   "cell_type": "code",
   "execution_count": 13,
   "metadata": {},
   "outputs": [
    {
     "data": {
      "text/plain": [
       "['lpep_pickup_datetime',\n",
       " 'Lpep_dropoff_datetime',\n",
       " 'Store_and_fwd_flag',\n",
       " 'tpep_pickup_hour',\n",
       " 'RateCodeID',\n",
       " 'VendorID']"
      ]
     },
     "execution_count": 13,
     "metadata": {},
     "output_type": "execute_result"
    }
   ],
   "source": [
    "cate_data"
   ]
  },
  {
   "cell_type": "code",
   "execution_count": 14,
   "metadata": {},
   "outputs": [
    {
     "data": {
      "text/html": [
       "<div>\n",
       "<style scoped>\n",
       "    .dataframe tbody tr th:only-of-type {\n",
       "        vertical-align: middle;\n",
       "    }\n",
       "\n",
       "    .dataframe tbody tr th {\n",
       "        vertical-align: top;\n",
       "    }\n",
       "\n",
       "    .dataframe thead th {\n",
       "        text-align: right;\n",
       "    }\n",
       "</style>\n",
       "<table border=\"1\" class=\"dataframe\">\n",
       "  <thead>\n",
       "    <tr style=\"text-align: right;\">\n",
       "      <th></th>\n",
       "      <th>VendorID</th>\n",
       "      <th>Counts</th>\n",
       "    </tr>\n",
       "  </thead>\n",
       "  <tbody>\n",
       "    <tr>\n",
       "      <th>0</th>\n",
       "      <td>1</td>\n",
       "      <td>322149</td>\n",
       "    </tr>\n",
       "    <tr>\n",
       "      <th>1</th>\n",
       "      <td>2</td>\n",
       "      <td>1165618</td>\n",
       "    </tr>\n",
       "  </tbody>\n",
       "</table>\n",
       "</div>"
      ],
      "text/plain": [
       "   VendorID   Counts\n",
       "0         1   322149\n",
       "1         2  1165618"
      ]
     },
     "execution_count": 14,
     "metadata": {},
     "output_type": "execute_result"
    }
   ],
   "source": [
    "#VendorID_info is a provider info\n",
    "VendorID_info = green_2015_09[['VendorID','Pickup_longitude']].groupby('VendorID').agg('count').reset_index().rename(columns = {'Pickup_longitude':'Counts'})\n",
    "VendorID_info"
   ]
  },
  {
   "cell_type": "markdown",
   "metadata": {},
   "source": [
    "Seems like there is no huge difference the distribtuions of tip_percentage when VendorID = 1,2."
   ]
  },
  {
   "cell_type": "code",
   "execution_count": 211,
   "metadata": {},
   "outputs": [
    {
     "data": {
      "text/plain": [
       "count    322149.000000\n",
       "mean          0.068038\n",
       "std           0.091998\n",
       "min           0.000000\n",
       "25%           0.000000\n",
       "50%           0.000000\n",
       "75%           0.165877\n",
       "max           1.000000\n",
       "Name: tip_percentage, dtype: float64"
      ]
     },
     "execution_count": 211,
     "metadata": {},
     "output_type": "execute_result"
    }
   ],
   "source": [
    "green_2015_09[green_2015_09['VendorID']==1]['tip_percentage'].describe()"
   ]
  },
  {
   "cell_type": "code",
   "execution_count": 212,
   "metadata": {},
   "outputs": [
    {
     "data": {
      "text/plain": [
       "count    1.165618e+06\n",
       "mean     6.627829e-02\n",
       "std      8.783808e-02\n",
       "min      0.000000e+00\n",
       "25%      0.000000e+00\n",
       "50%      0.000000e+00\n",
       "75%      1.666667e-01\n",
       "max      9.933775e-01\n",
       "Name: tip_percentage, dtype: float64"
      ]
     },
     "execution_count": 212,
     "metadata": {},
     "output_type": "execute_result"
    }
   ],
   "source": [
    "green_2015_09[green_2015_09['VendorID']==2]['tip_percentage'].describe()"
   ]
  },
  {
   "cell_type": "code",
   "execution_count": 15,
   "metadata": {},
   "outputs": [
    {
     "data": {
      "text/html": [
       "<div>\n",
       "<style scoped>\n",
       "    .dataframe tbody tr th:only-of-type {\n",
       "        vertical-align: middle;\n",
       "    }\n",
       "\n",
       "    .dataframe tbody tr th {\n",
       "        vertical-align: top;\n",
       "    }\n",
       "\n",
       "    .dataframe thead th {\n",
       "        text-align: right;\n",
       "    }\n",
       "</style>\n",
       "<table border=\"1\" class=\"dataframe\">\n",
       "  <thead>\n",
       "    <tr style=\"text-align: right;\">\n",
       "      <th></th>\n",
       "      <th>RateCodeID</th>\n",
       "      <th>Counts</th>\n",
       "    </tr>\n",
       "  </thead>\n",
       "  <tbody>\n",
       "    <tr>\n",
       "      <th>0</th>\n",
       "      <td>1</td>\n",
       "      <td>1451627</td>\n",
       "    </tr>\n",
       "    <tr>\n",
       "      <th>1</th>\n",
       "      <td>2</td>\n",
       "      <td>4299</td>\n",
       "    </tr>\n",
       "    <tr>\n",
       "      <th>2</th>\n",
       "      <td>3</td>\n",
       "      <td>1091</td>\n",
       "    </tr>\n",
       "    <tr>\n",
       "      <th>3</th>\n",
       "      <td>4</td>\n",
       "      <td>912</td>\n",
       "    </tr>\n",
       "    <tr>\n",
       "      <th>4</th>\n",
       "      <td>5</td>\n",
       "      <td>29802</td>\n",
       "    </tr>\n",
       "    <tr>\n",
       "      <th>5</th>\n",
       "      <td>6</td>\n",
       "      <td>32</td>\n",
       "    </tr>\n",
       "    <tr>\n",
       "      <th>6</th>\n",
       "      <td>99</td>\n",
       "      <td>4</td>\n",
       "    </tr>\n",
       "  </tbody>\n",
       "</table>\n",
       "</div>"
      ],
      "text/plain": [
       "   RateCodeID   Counts\n",
       "0           1  1451627\n",
       "1           2     4299\n",
       "2           3     1091\n",
       "3           4      912\n",
       "4           5    29802\n",
       "5           6       32\n",
       "6          99        4"
      ]
     },
     "execution_count": 15,
     "metadata": {},
     "output_type": "execute_result"
    }
   ],
   "source": [
    "RatecodeID_info = green_2015_09[['RateCodeID','VendorID']].groupby('RateCodeID').agg('count').reset_index().rename(columns = {'VendorID':'Counts'})\n",
    "RatecodeID_info"
   ]
  },
  {
   "cell_type": "code",
   "execution_count": 16,
   "metadata": {},
   "outputs": [
    {
     "data": {
      "text/html": [
       "<div>\n",
       "<style scoped>\n",
       "    .dataframe tbody tr th:only-of-type {\n",
       "        vertical-align: middle;\n",
       "    }\n",
       "\n",
       "    .dataframe tbody tr th {\n",
       "        vertical-align: top;\n",
       "    }\n",
       "\n",
       "    .dataframe thead th {\n",
       "        text-align: right;\n",
       "    }\n",
       "</style>\n",
       "<table border=\"1\" class=\"dataframe\">\n",
       "  <thead>\n",
       "    <tr style=\"text-align: right;\">\n",
       "      <th></th>\n",
       "      <th>Payment_type</th>\n",
       "      <th>Counts</th>\n",
       "    </tr>\n",
       "  </thead>\n",
       "  <tbody>\n",
       "    <tr>\n",
       "      <th>0</th>\n",
       "      <td>1</td>\n",
       "      <td>700934</td>\n",
       "    </tr>\n",
       "    <tr>\n",
       "      <th>1</th>\n",
       "      <td>2</td>\n",
       "      <td>779391</td>\n",
       "    </tr>\n",
       "    <tr>\n",
       "      <th>2</th>\n",
       "      <td>3</td>\n",
       "      <td>3922</td>\n",
       "    </tr>\n",
       "    <tr>\n",
       "      <th>3</th>\n",
       "      <td>4</td>\n",
       "      <td>3448</td>\n",
       "    </tr>\n",
       "    <tr>\n",
       "      <th>4</th>\n",
       "      <td>5</td>\n",
       "      <td>72</td>\n",
       "    </tr>\n",
       "  </tbody>\n",
       "</table>\n",
       "</div>"
      ],
      "text/plain": [
       "   Payment_type  Counts\n",
       "0             1  700934\n",
       "1             2  779391\n",
       "2             3    3922\n",
       "3             4    3448\n",
       "4             5      72"
      ]
     },
     "execution_count": 16,
     "metadata": {},
     "output_type": "execute_result"
    }
   ],
   "source": [
    "payment_type_info = green_2015_09[['Payment_type','VendorID']].groupby('Payment_type').agg('count').reset_index().rename(columns = {'VendorID':'Counts'})\n",
    "payment_type_info"
   ]
  },
  {
   "cell_type": "markdown",
   "metadata": {},
   "source": [
    "We can see that most passengers didn't pay tips when their payment type = 2 (cash)."
   ]
  },
  {
   "cell_type": "code",
   "execution_count": 128,
   "metadata": {},
   "outputs": [
    {
     "data": {
      "text/plain": [
       "count    700934.000000\n",
       "mean          0.141486\n",
       "std           0.078316\n",
       "min           0.000000\n",
       "25%           0.107914\n",
       "50%           0.166667\n",
       "75%           0.166667\n",
       "max           1.000000\n",
       "Name: tip_percentage, dtype: float64"
      ]
     },
     "execution_count": 128,
     "metadata": {},
     "output_type": "execute_result"
    }
   ],
   "source": [
    "green_2015_09[green_2015_09['Payment_type']==1]['tip_percentage'].describe()"
   ]
  },
  {
   "cell_type": "code",
   "execution_count": 130,
   "metadata": {},
   "outputs": [
    {
     "data": {
      "text/plain": [
       "count    779391.000000\n",
       "mean          0.000001\n",
       "std           0.001117\n",
       "min           0.000000\n",
       "25%           0.000000\n",
       "50%           0.000000\n",
       "75%           0.000000\n",
       "max           0.972132\n",
       "Name: tip_percentage, dtype: float64"
      ]
     },
     "execution_count": 130,
     "metadata": {},
     "output_type": "execute_result"
    }
   ],
   "source": [
    "green_2015_09[green_2015_09['Payment_type']==2]['tip_percentage'].describe()"
   ]
  },
  {
   "cell_type": "code",
   "execution_count": 17,
   "metadata": {},
   "outputs": [
    {
     "data": {
      "text/html": [
       "<div>\n",
       "<style scoped>\n",
       "    .dataframe tbody tr th:only-of-type {\n",
       "        vertical-align: middle;\n",
       "    }\n",
       "\n",
       "    .dataframe tbody tr th {\n",
       "        vertical-align: top;\n",
       "    }\n",
       "\n",
       "    .dataframe thead th {\n",
       "        text-align: right;\n",
       "    }\n",
       "</style>\n",
       "<table border=\"1\" class=\"dataframe\">\n",
       "  <thead>\n",
       "    <tr style=\"text-align: right;\">\n",
       "      <th></th>\n",
       "      <th>Store_and_fwd_flag</th>\n",
       "      <th>Counts</th>\n",
       "    </tr>\n",
       "  </thead>\n",
       "  <tbody>\n",
       "    <tr>\n",
       "      <th>0</th>\n",
       "      <td>N</td>\n",
       "      <td>1479198</td>\n",
       "    </tr>\n",
       "    <tr>\n",
       "      <th>1</th>\n",
       "      <td>Y</td>\n",
       "      <td>8569</td>\n",
       "    </tr>\n",
       "  </tbody>\n",
       "</table>\n",
       "</div>"
      ],
      "text/plain": [
       "  Store_and_fwd_flag   Counts\n",
       "0                  N  1479198\n",
       "1                  Y     8569"
      ]
     },
     "execution_count": 17,
     "metadata": {},
     "output_type": "execute_result"
    }
   ],
   "source": [
    "store_and_fwd_flag_info = green_2015_09[['Store_and_fwd_flag','VendorID']].groupby('Store_and_fwd_flag').agg('count').reset_index().rename(columns = {'VendorID':'Counts'})\n",
    "store_and_fwd_flag_info"
   ]
  },
  {
   "cell_type": "markdown",
   "metadata": {},
   "source": [
    "### Missing value imputations "
   ]
  },
  {
   "cell_type": "markdown",
   "metadata": {},
   "source": [
    "In current data, 2 features (Ehail_fee, Trip_type) have missing value.\n",
    "1. Ehail_fee : 100 % of them are missing value\n",
    "2. Trip_type : only 4 of 1487767 rows have missing value\n",
    "\n",
    "So I will remove Ehail_fee and ignore 4 missing values of 1487767 rows in Trip_type"
   ]
  },
  {
   "cell_type": "code",
   "execution_count": 97,
   "metadata": {},
   "outputs": [
    {
     "data": {
      "text/plain": [
       "{'Ehail_fee': 1487767, 'Trip_type ': 4}"
      ]
     },
     "execution_count": 97,
     "metadata": {},
     "output_type": "execute_result"
    }
   ],
   "source": [
    "col_names = green_2015_09.columns\n",
    "col_list = {}\n",
    "for i in col_names:\n",
    "    if (green_2015_09[i].isnull()).sum() > 0:\n",
    "        col_list[i] = (green_2015_09[i].isnull()).sum() \n",
    "        \n",
    "col_list"
   ]
  },
  {
   "cell_type": "code",
   "execution_count": 98,
   "metadata": {},
   "outputs": [],
   "source": [
    "green_2015_09 = green_2015_09.drop(columns = ['Ehail_fee'])\n",
    "green_2015_09 = green_2015_09[~green_2015_09[i].isnull()]"
   ]
  },
  {
   "cell_type": "code",
   "execution_count": 99,
   "metadata": {},
   "outputs": [
    {
     "data": {
      "text/plain": [
       "(1487767, 22)"
      ]
     },
     "execution_count": 99,
     "metadata": {},
     "output_type": "execute_result"
    }
   ],
   "source": [
    "green_2015_09.shape"
   ]
  },
  {
   "cell_type": "markdown",
   "metadata": {},
   "source": [
    "### Date Data tranformation "
   ]
  },
  {
   "cell_type": "markdown",
   "metadata": {},
   "source": [
    "I tranformed pickup date feature to hour, day and weekdays and dropoff-date to drop-off hour. "
   ]
  },
  {
   "cell_type": "code",
   "execution_count": 100,
   "metadata": {},
   "outputs": [],
   "source": [
    "import datetime as dt\n",
    "green_2015_09['lpep_pickup_dt'] = green_2015_09['lpep_pickup_datetime'].apply(lambda x: dt.datetime.strptime(x,\"%Y-%m-%d %H:%M:%S\"))\n",
    "green_2015_09['Lpep_dropoff_dt'] = green_2015_09['Lpep_dropoff_datetime'].apply(lambda x: dt.datetime.strptime(x,\"%Y-%m-%d %H:%M:%S\"))"
   ]
  },
  {
   "cell_type": "code",
   "execution_count": 101,
   "metadata": {},
   "outputs": [],
   "source": [
    "green_2015_09['lpep_pickup_hour'] = green_2015_09['lpep_pickup_dt'].apply(lambda x: x.hour)\n",
    "green_2015_09['lpep_pickup_day'] = green_2015_09['lpep_pickup_dt'].apply(lambda x: x.day)\n",
    "green_2015_09['lpep_pickup_weekday'] = green_2015_09['lpep_pickup_dt'].apply(lambda x: x.weekday())"
   ]
  },
  {
   "cell_type": "code",
   "execution_count": 102,
   "metadata": {},
   "outputs": [],
   "source": [
    "green_2015_09['lpep_dropoff_hour'] = green_2015_09['Lpep_dropoff_dt'].apply(lambda x: x.hour)"
   ]
  },
  {
   "cell_type": "code",
   "execution_count": 103,
   "metadata": {},
   "outputs": [],
   "source": [
    "green_2015_09['trip_times'] = (green_2015_09['Lpep_dropoff_dt'] - green_2015_09['lpep_pickup_dt']).apply(lambda x: x.total_seconds()) "
   ]
  },
  {
   "cell_type": "markdown",
   "metadata": {},
   "source": [
    "### Dummy variables  (Transform Categorical features to Numerical features"
   ]
  },
  {
   "cell_type": "code",
   "execution_count": 104,
   "metadata": {},
   "outputs": [],
   "source": [
    "#Cate to dummy : RatecodeID, store_and_fwd_flag, Payment_type\n",
    "#feature to drop : VendorID, tpep_pickup_datetime, tpep_dropoff_datetime, tpep_pickup_dt, tpep_dropoff_dt, tip_amount\n",
    "\n",
    "column_to_drop = ['VendorID','lpep_pickup_datetime','Lpep_dropoff_datetime','lpep_pickup_dt','Lpep_dropoff_dt','Tip_amount','Total_amount']\n",
    "updated_green = green_2015_09.drop(columns = column_to_drop)\n"
   ]
  },
  {
   "cell_type": "code",
   "execution_count": 105,
   "metadata": {},
   "outputs": [],
   "source": [
    "#Create Dummy features\n",
    "cate_list = ['RateCodeID', 'Store_and_fwd_flag', 'Payment_type']\n",
    "\n",
    "for i in cate_list:\n",
    "    dummies = pd.get_dummies(updated_green[i]).rename(columns=lambda x: i+'_' + str(x))\n",
    "    updated_green = pd.concat([updated_green,dummies], axis=1)\n",
    "    updated_green = updated_green.drop(columns = [i])"
   ]
  },
  {
   "cell_type": "code",
   "execution_count": 106,
   "metadata": {},
   "outputs": [
    {
     "data": {
      "text/plain": [
       "Index([u'Pickup_longitude', u'Pickup_latitude', u'Dropoff_longitude',\n",
       "       u'Dropoff_latitude', u'Passenger_count', u'Trip_distance',\n",
       "       u'Fare_amount', u'Extra', u'MTA_tax', u'Tolls_amount',\n",
       "       u'improvement_surcharge', u'Trip_type ', u'tip_percentage',\n",
       "       u'tpep_pickup_hour', u'lpep_pickup_hour', u'lpep_pickup_day',\n",
       "       u'lpep_pickup_weekday', u'lpep_dropoff_hour', u'trip_times',\n",
       "       u'RateCodeID_1', u'RateCodeID_2', u'RateCodeID_3', u'RateCodeID_4',\n",
       "       u'RateCodeID_5', u'RateCodeID_6', u'RateCodeID_99',\n",
       "       u'Store_and_fwd_flag_N', u'Store_and_fwd_flag_Y', u'Payment_type_1',\n",
       "       u'Payment_type_2', u'Payment_type_3', u'Payment_type_4',\n",
       "       u'Payment_type_5'],\n",
       "      dtype='object')"
      ]
     },
     "execution_count": 106,
     "metadata": {},
     "output_type": "execute_result"
    }
   ],
   "source": [
    "updated_green.columns"
   ]
  },
  {
   "cell_type": "markdown",
   "metadata": {},
   "source": [
    "## Target Feature"
   ]
  },
  {
   "cell_type": "code",
   "execution_count": 107,
   "metadata": {},
   "outputs": [
    {
     "data": {
      "text/plain": [
       "count    1.487767e+06\n",
       "mean     6.665932e-02\n",
       "std      8.875835e-02\n",
       "min      0.000000e+00\n",
       "25%      0.000000e+00\n",
       "50%      0.000000e+00\n",
       "75%      1.666667e-01\n",
       "max      1.000000e+00\n",
       "Name: tip_percentage, dtype: float64"
      ]
     },
     "execution_count": 107,
     "metadata": {},
     "output_type": "execute_result"
    }
   ],
   "source": [
    "updated_green['tip_percentage'].describe()"
   ]
  },
  {
   "cell_type": "code",
   "execution_count": 108,
   "metadata": {},
   "outputs": [
    {
     "data": {
      "text/plain": [
       "<matplotlib.axes._subplots.AxesSubplot at 0x122498fd0>"
      ]
     },
     "execution_count": 108,
     "metadata": {},
     "output_type": "execute_result"
    },
    {
     "data": {
      "image/png": "[encoded data removed]",
      "text/plain": [
       "<Figure size 432x288 with 1 Axes>"
      ]
     },
     "metadata": {
      "needs_background": "light"
     },
     "output_type": "display_data"
    }
   ],
   "source": [
    "updated_green[['tip_percentage']].plot.hist()"
   ]
  },
  {
   "cell_type": "markdown",
   "metadata": {},
   "source": [
    "We can see that almost 60% of target feature are 0.0% "
   ]
  },
  {
   "cell_type": "code",
   "execution_count": 109,
   "metadata": {},
   "outputs": [
    {
     "name": "stdout",
     "output_type": "stream",
     "text": [
      "Number of no tips: 885046\n",
      "Number of tips: 602721\n",
      "Number of no tips %: 0.5948821287204247\n",
      "Number of tips %: 0.4051178712795754\n"
     ]
    }
   ],
   "source": [
    "print \"Number of no tips: \" + str((updated_green['tip_percentage'] == 0).sum())\n",
    "print \"Number of tips: \" + str((updated_green['tip_percentage'] > 0).sum())\n",
    "print \"Number of no tips %: \" + str((updated_green['tip_percentage'] == 0).sum()/(updated_green.shape[0]*1.0))\n",
    "print \"Number of tips %: \" + str((updated_green['tip_percentage'] > 0).sum()/(updated_green.shape[0]*1.0))\n"
   ]
  },
  {
   "cell_type": "markdown",
   "metadata": {},
   "source": [
    "Let's look at the distribution of target feature with tip_percentage > 0 . "
   ]
  },
  {
   "cell_type": "code",
   "execution_count": 110,
   "metadata": {},
   "outputs": [
    {
     "data": {
      "text/plain": [
       "count    602721.000000\n",
       "mean          0.164543\n",
       "std           0.057795\n",
       "min           0.000083\n",
       "25%           0.161290\n",
       "50%           0.166667\n",
       "75%           0.166708\n",
       "max           1.000000\n",
       "Name: tip_percentage, dtype: float64"
      ]
     },
     "execution_count": 110,
     "metadata": {},
     "output_type": "execute_result"
    }
   ],
   "source": [
    "updated_green[updated_green['tip_percentage'] > 0]['tip_percentage'].describe()"
   ]
  },
  {
   "cell_type": "code",
   "execution_count": 111,
   "metadata": {},
   "outputs": [
    {
     "data": {
      "text/plain": [
       "<matplotlib.axes._subplots.AxesSubplot at 0x136af10d0>"
      ]
     },
     "execution_count": 111,
     "metadata": {},
     "output_type": "execute_result"
    },
    {
     "data": {
      "image/png": "[encoded data removed]",
      "text/plain": [
       "<Figure size 1080x288 with 2 Axes>"
      ]
     },
     "metadata": {
      "needs_background": "light"
     },
     "output_type": "display_data"
    }
   ],
   "source": [
    "tip_percentage_info = updated_green[updated_green['tip_percentage'] > 0][['tip_percentage']]\n",
    "fig,ax = plt.subplots(1,2,figsize = (15,4))\n",
    "\n",
    "tip_percentage_info.plot.hist(ax=ax[0])\n",
    "tip_percentage_info.plot.box(ax=ax[1])"
   ]
  },
  {
   "cell_type": "code",
   "execution_count": 112,
   "metadata": {},
   "outputs": [],
   "source": [
    "tip_percentage = updated_green['tip_percentage']\n",
    "updated_green = updated_green.drop(columns= 'tip_percentage')\n",
    "updated_green = pd.concat([updated_green,tip_percentage], axis=1)"
   ]
  },
  {
   "cell_type": "markdown",
   "metadata": {},
   "source": [
    "We can see that the target feature (tip percentages) is not linearly correlated with most of input features. So we can not use a linear regression model for this data. So **Random Forest Regression model** could be a good option. Additionally, we also can see that some highly correlated input features, but since  I am going to build a Random Forest model (a tree based model), I didn't delete them.  "
   ]
  },
  {
   "cell_type": "code",
   "execution_count": 113,
   "metadata": {},
   "outputs": [
    {
     "data": {
      "text/plain": [
       "<matplotlib.colorbar.Colorbar at 0x13ddc6890>"
      ]
     },
     "execution_count": 113,
     "metadata": {},
     "output_type": "execute_result"
    },
    {
     "data": {
      "image/png": "[encoded data removed]",
      "text/plain": [
       "<Figure size 1080x1080 with 2 Axes>"
      ]
     },
     "metadata": {
      "needs_background": "light"
     },
     "output_type": "display_data"
    }
   ],
   "source": [
    "#updated_green_0 = updated_green[updated_green['tip_percentage'] > 0]\n",
    "updated_green_0_corr = updated_green.corr()\n",
    "updated_green_0_corr = updated_green_0_corr[~updated_green_0_corr['tip_percentage'].isnull()]\n",
    "fig = plt.figure(1, figsize=(15,15) )\n",
    "plt.imshow(updated_green_0_corr)\n",
    "plt.xticks(range(len(updated_green_0_corr.columns)), updated_green_0_corr.columns);\n",
    "plt.yticks(range(len(updated_green_0_corr.columns)), updated_green_0_corr.columns);\n",
    "plt.colorbar()"
   ]
  },
  {
   "cell_type": "markdown",
   "metadata": {},
   "source": [
    "### Lattitude and Longitude "
   ]
  },
  {
   "cell_type": "markdown",
   "metadata": {},
   "source": [
    "I explored pickup/drop-off-lattitude and longitude features. \n",
    "1. Pickup: Passengers took their taxis in Brooklyn, Queens and The Bronx but not in Manhattan  \n",
    "2. Drop-off: They got off at Brooklyn, Queens and The Bronx and Manhattan "
   ]
  },
  {
   "cell_type": "code",
   "execution_count": 114,
   "metadata": {},
   "outputs": [],
   "source": [
    "#Remove the cases whose pick-up and drop-off locations are not in New York.\n",
    "\n",
    "updated_green = updated_green[(updated_green['Pickup_latitude'] > 40.5774) & (updated_green['Pickup_latitude'] <= 40.9176)]\n",
    "updated_green = updated_green[(updated_green['Pickup_longitude'] > -74.15) & (updated_green['Pickup_longitude'] <= -73.7004)]\n",
    "\n",
    "updated_green = updated_green[(updated_green['Dropoff_latitude'] > 40.5774) & (updated_green['Dropoff_latitude'] <= 40.9176)]\n",
    "updated_green = updated_green[(updated_green['Dropoff_longitude'] > -74.15) & (updated_green['Dropoff_longitude'] <= -73.7004)]\n",
    "\n"
   ]
  },
  {
   "cell_type": "code",
   "execution_count": 115,
   "metadata": {},
   "outputs": [
    {
     "data": {
      "text/plain": [
       "(1478506, 33)"
      ]
     },
     "execution_count": 115,
     "metadata": {},
     "output_type": "execute_result"
    }
   ],
   "source": [
    "updated_green.shape"
   ]
  },
  {
   "cell_type": "code",
   "execution_count": 430,
   "metadata": {},
   "outputs": [
    {
     "data": {
      "image/png": "[encoded data removed]",
      "text/plain": [
       "<Figure size 1080x288 with 2 Axes>"
      ]
     },
     "metadata": {
      "needs_background": "light"
     },
     "output_type": "display_data"
    }
   ],
   "source": [
    "from matplotlib.colors import LogNorm\n",
    "latmin = 40.48\n",
    "lonmin = -74.28\n",
    "latmax = 40.93\n",
    "lonmax = -73.65\n",
    "fig,ax = plt.subplots(1,2,figsize = (15,4))\n",
    "ratio = np.cos(40.7 * np.pi/180) * (lonmax-lonmin) /(latmax-latmin)\n",
    "fig = plt.figure(1, figsize=(8,ratio*8) )\n",
    "hist = ax[0].hist2d(updated_green['Pickup_longitude'],updated_green['Pickup_latitude'],bins=199,range=[[lonmin,lonmax],[latmin,latmax]],norm=LogNorm())\n",
    "ax[0].set_xlabel('Longitude [degrees]')\n",
    "ax[0].set_ylabel('Latitude [degrees]')\n",
    "ax[0].set_title('Green Cap Pickup Locations')\n",
    "#plt.colorbar(label='Number',cax=ax[0])\n",
    "#plt.show()\n",
    "\n",
    "hist2 = ax[1].hist2d(updated_green['Dropoff_longitude'],updated_green['Dropoff_latitude'],bins=199,range=[[lonmin,lonmax],[latmin,latmax]],norm=LogNorm())\n",
    "ax[1].set_xlabel('Longitude [degrees]')\n",
    "ax[1].set_xlabel('Latitude [degrees]')\n",
    "ax[1].set_title('Dropoff Locations')\n",
    "#fig.colorbar(hist2,label='Number',ax=ax.ravel().tolist())\n",
    "#ax.cax.colorbar(hist,label='Number')\n",
    "plt.show()"
   ]
  },
  {
   "cell_type": "markdown",
   "metadata": {},
   "source": [
    "## Modeling "
   ]
  },
  {
   "cell_type": "markdown",
   "metadata": {},
   "source": [
    "Since almost 60% of target feature are 0.0%, we'd better make 2 models. \n",
    "1. Binary classification model (tips = 1/ no tips = 0) \n",
    "2. Regression model (Predict tip percentage when tip percentage > 0 ) "
   ]
  },
  {
   "cell_type": "markdown",
   "metadata": {},
   "source": [
    "## Classification Model "
   ]
  },
  {
   "cell_type": "markdown",
   "metadata": {},
   "source": [
    "I will build a RandomForest classification model for binary classification because RandomForest model has the ability to handle a large data set with high dimensionality by providing high accuracy.  "
   ]
  },
  {
   "cell_type": "markdown",
   "metadata": {},
   "source": [
    "### Hyper-parameter tuning "
   ]
  },
  {
   "cell_type": "markdown",
   "metadata": {},
   "source": [
    "I tried to optimize hyper-paramters (n_estimators, max_depth and min_samples_split) by using gridsearch with 3-fold cross-validation.\n"
   ]
  },
  {
   "cell_type": "markdown",
   "metadata": {},
   "source": [
    "Selected hyper-parameters : ***{'min_samples_split': 10, 'n_estimators': 60, 'max_depth': 20}***"
   ]
  },
  {
   "cell_type": "code",
   "execution_count": 116,
   "metadata": {},
   "outputs": [],
   "source": [
    "from sklearn.model_selection import cross_val_predict, GridSearchCV\n",
    "from sklearn.ensemble import RandomForestRegressor\n",
    "from sklearn.ensemble import RandomForestClassifier\n",
    "from sklearn.metrics import roc_curve, precision_recall_curve, auc, make_scorer, recall_score, accuracy_score, precision_score, confusion_matrix\n"
   ]
  },
  {
   "cell_type": "code",
   "execution_count": 118,
   "metadata": {},
   "outputs": [],
   "source": [
    "#I randomly selected 75% of data-set to use it as training data set and 25% of them as test data set.\n",
    "train_ratio = 0.75\n",
    "updated_green['is_train'] = np.random.uniform(0, 1, updated_green.shape[0]) <= train_ratio \n",
    "train_green = updated_green[updated_green['is_train']==1]\n",
    "train_green = train_green.drop(columns = ['is_train'])"
   ]
  },
  {
   "cell_type": "code",
   "execution_count": 189,
   "metadata": {},
   "outputs": [
    {
     "name": "stderr",
     "output_type": "stream",
     "text": [
      "/anaconda3/envs/py2/lib/python2.7/site-packages/ipykernel_launcher.py:12: SettingWithCopyWarning: \n",
      "A value is trying to be set on a copy of a slice from a DataFrame\n",
      "\n",
      "See the caveats in the documentation: http://pandas.pydata.org/pandas-docs/stable/indexing.html#indexing-view-versus-copy\n",
      "  if sys.path[0] == '':\n",
      "/anaconda3/envs/py2/lib/python2.7/site-packages/ipykernel_launcher.py:13: SettingWithCopyWarning: \n",
      "A value is trying to be set on a copy of a slice from a DataFrame\n",
      "\n",
      "See the caveats in the documentation: http://pandas.pydata.org/pandas-docs/stable/indexing.html#indexing-view-versus-copy\n",
      "  del sys.path[0]\n"
     ]
    }
   ],
   "source": [
    "rf = RandomForestClassifier(n_jobs=-1,n_estimators=50, max_depth= 10, min_samples_split=10) \n",
    "\n",
    "param_grid = { \n",
    "    'n_estimators': [50,60],\n",
    "    'max_depth' : [20,50,70],\n",
    "    'min_samples_split' : [10,20]\n",
    "}\n",
    "\n",
    "\n",
    "#Make target feature as binary data.\n",
    "Y = train_green[['tip_percentage']]\n",
    "Y.loc[train_green['tip_percentage'] >0 ,'tip_percentage']=1\n",
    "Y.loc[train_green['tip_percentage'] == 0 ,'tip_percentage']=0\n",
    "Y = Y['tip_percentage']\n",
    "X = train_green.drop(columns=['tip_percentage'])\n"
   ]
  },
  {
   "cell_type": "code",
   "execution_count": 40,
   "metadata": {},
   "outputs": [
    {
     "data": {
      "text/plain": [
       "GridSearchCV(cv=3, error_score='raise-deprecating',\n",
       "       estimator=RandomForestClassifier(bootstrap=True, class_weight=None, criterion='gini',\n",
       "            max_depth=10, max_features='auto', max_leaf_nodes=None,\n",
       "            min_impurity_decrease=0.0, min_impurity_split=None,\n",
       "            min_samples_leaf=1, min_samples_split=10,\n",
       "            min_weight_fraction_leaf=0.0, n_estimators=50, n_jobs=-1,\n",
       "            oob_score=False, random_state=None, verbose=0,\n",
       "            warm_start=False),\n",
       "       fit_params=None, iid='warn', n_jobs=None,\n",
       "       param_grid={'n_estimators': [50, 60], 'min_samples_split': [10, 20], 'max_depth': [20, 50, 70]},\n",
       "       pre_dispatch='2*n_jobs', refit=True, return_train_score='warn',\n",
       "       scoring='accuracy', verbose=0)"
      ]
     },
     "execution_count": 40,
     "metadata": {},
     "output_type": "execute_result"
    }
   ],
   "source": [
    "from sklearn import metrics \n",
    "CV_RF = GridSearchCV(estimator=rf, param_grid=param_grid, scoring='accuracy',cv = 3)\n",
    "CV_RF.fit(X, Y)"
   ]
  },
  {
   "cell_type": "code",
   "execution_count": 41,
   "metadata": {},
   "outputs": [
    {
     "name": "stdout",
     "output_type": "stream",
     "text": [
      "{'min_samples_split': 10, 'n_estimators': 60, 'max_depth': 20}\n"
     ]
    }
   ],
   "source": [
    "#Selected hyper-parameters \n",
    "print CV_RF.best_params_"
   ]
  },
  {
   "cell_type": "markdown",
   "metadata": {},
   "source": [
    "We can also find that the training models are ***overfitted because the accuracies of training models are much higher than the accuracies of test models.*** .\n",
    "<br>\n",
    "So I will build another model with using less features to solve this problem."
   ]
  },
  {
   "cell_type": "code",
   "execution_count": 42,
   "metadata": {},
   "outputs": [
    {
     "name": "stdout",
     "output_type": "stream",
     "text": [
      "[0.94434962 0.94436135 0.94218079 0.94219477 0.96454354 0.96429199\n",
      " 0.94987743 0.94972145 0.96440154 0.96426044 0.94979628 0.94979087]\n",
      "[0.83354476 0.83391082 0.83170998 0.83313092 0.83255659 0.82791418\n",
      " 0.83226717 0.8313322  0.83293347 0.8320012  0.83159908 0.83018715]\n"
     ]
    },
    {
     "name": "stderr",
     "output_type": "stream",
     "text": [
      "/anaconda3/envs/py2/lib/python2.7/site-packages/sklearn/utils/deprecation.py:125: FutureWarning: You are accessing a training score ('mean_train_score'), which will not be available by default any more in 0.21. If you need training scores, please set return_train_score=True\n",
      "  warnings.warn(*warn_args, **warn_kwargs)\n"
     ]
    }
   ],
   "source": [
    "#Cross Validation result by each hyper-parameter candidate\n",
    "print CV_RF.cv_results_['mean_train_score']\n",
    "print CV_RF.cv_results_['mean_test_score']"
   ]
  },
  {
   "cell_type": "markdown",
   "metadata": {},
   "source": [
    "When we look at the feature importance, we can see that payment type 1,2, pickup/drop off locations and trip distance  are the most important features. "
   ]
  },
  {
   "cell_type": "code",
   "execution_count": 43,
   "metadata": {},
   "outputs": [
    {
     "data": {
      "text/plain": [
       "<matplotlib.axes._subplots.AxesSubplot at 0x136407210>"
      ]
     },
     "execution_count": 43,
     "metadata": {},
     "output_type": "execute_result"
    },
    {
     "data": {
      "image/png": "[encoded data removed]",
      "text/plain": [
       "<Figure size 432x288 with 1 Axes>"
      ]
     },
     "metadata": {
      "needs_background": "light"
     },
     "output_type": "display_data"
    }
   ],
   "source": [
    "feature_importances = pd.DataFrame(CV_RF.best_estimator_.feature_importances_,\n",
    "                                   index = X.columns,\n",
    "                                    columns=['importance']).sort_values('importance',\n",
    "                                                                        ascending=False)\n",
    "feature_importances.head(20).plot.bar()"
   ]
  },
  {
   "cell_type": "code",
   "execution_count": 134,
   "metadata": {},
   "outputs": [
    {
     "data": {
      "text/plain": [
       "count    32.000000\n",
       "mean      0.031250\n",
       "std       0.105219\n",
       "min       0.000000\n",
       "25%       0.000425\n",
       "50%       0.001505\n",
       "75%       0.008858\n",
       "max       0.441866\n",
       "Name: importance, dtype: float64"
      ]
     },
     "execution_count": 134,
     "metadata": {},
     "output_type": "execute_result"
    }
   ],
   "source": [
    "feature_importances['importance'].describe()"
   ]
  },
  {
   "cell_type": "markdown",
   "metadata": {},
   "source": [
    "I selected the following features whose importances are >= 75% percentile (0.008858) of feature importnace.\n",
    "1. Payment_type_1\n",
    "2. Payment_type_2\n",
    "3. Dropoff_longitude\n",
    "4. Pickup_longitude\n",
    "5. Dropoff_latitude\n",
    "6. Pickup_latitude\n",
    "7. Trip_distance\n",
    "8. trip_times\n",
    "9. Fare_amount"
   ]
  },
  {
   "cell_type": "code",
   "execution_count": 50,
   "metadata": {},
   "outputs": [],
   "source": [
    "top_features = feature_importances.reset_index().head(9)['index'].tolist()"
   ]
  },
  {
   "cell_type": "markdown",
   "metadata": {},
   "source": [
    "Run GridSearch again with the selected features. "
   ]
  },
  {
   "cell_type": "markdown",
   "metadata": {},
   "source": [
    "Selected hyper-parameters : ***{'min_samples_split': 20, 'n_estimators': 60, 'max_depth': 70}***"
   ]
  },
  {
   "cell_type": "code",
   "execution_count": 190,
   "metadata": {},
   "outputs": [
    {
     "data": {
      "text/plain": [
       "GridSearchCV(cv=3, error_score='raise-deprecating',\n",
       "       estimator=RandomForestClassifier(bootstrap=True, class_weight=None, criterion='gini',\n",
       "            max_depth=10, max_features='auto', max_leaf_nodes=None,\n",
       "            min_impurity_decrease=0.0, min_impurity_split=None,\n",
       "            min_samples_leaf=1, min_samples_split=10,\n",
       "            min_weight_fraction_leaf=0.0, n_estimators=50, n_jobs=-1,\n",
       "            oob_score=False, random_state=None, verbose=0,\n",
       "            warm_start=False),\n",
       "       fit_params=None, iid='warn', n_jobs=None,\n",
       "       param_grid={'n_estimators': [50, 60], 'min_samples_split': [10, 20], 'max_depth': [20, 50, 70]},\n",
       "       pre_dispatch='2*n_jobs', refit=True, return_train_score='warn',\n",
       "       scoring='accuracy', verbose=0)"
      ]
     },
     "execution_count": 190,
     "metadata": {},
     "output_type": "execute_result"
    }
   ],
   "source": [
    "CV_RF_2 = GridSearchCV(estimator=rf, param_grid=param_grid, scoring='accuracy',cv = 3)\n",
    "CV_RF_2.fit(X[top_features], Y)"
   ]
  },
  {
   "cell_type": "code",
   "execution_count": 191,
   "metadata": {},
   "outputs": [
    {
     "name": "stdout",
     "output_type": "stream",
     "text": [
      "{'min_samples_split': 20, 'n_estimators': 60, 'max_depth': 70}\n"
     ]
    }
   ],
   "source": [
    "print CV_RF_2.best_params_"
   ]
  },
  {
   "cell_type": "markdown",
   "metadata": {},
   "source": [
    "We can see that the accuracies of test data set in CV are improved and the difference between accuracies of training and test data set decreased. "
   ]
  },
  {
   "cell_type": "markdown",
   "metadata": {},
   "source": [
    "1. Best hyper-parameter: **{'min_samples_split': 20, 'n_estimators': 60, 'max_depth': 70}**\n",
    "2. Mean of train accuracy in 3 fold CV:  ***0.955*** \n",
    "3. Mean of test accuracy in 3 fold CV: ***0.936***\n",
    "4. Standard deviation of accruacy of train in 3 fold CV: ***1.46334589e-04***\n",
    "5. Standard deviation of accuracy of test in 3 fold CV: ***0.00091053***"
   ]
  },
  {
   "cell_type": "code",
   "execution_count": 192,
   "metadata": {},
   "outputs": [
    {
     "name": "stdout",
     "output_type": "stream",
     "text": [
      "**** mean of accuracy ****\n",
      "train: [0.94863195 0.94859769 0.94501121 0.94498461 0.97061521 0.97051602\n",
      " 0.95501368 0.9549181  0.97064631 0.9706941  0.95501638 0.95501909]\n",
      "test: [0.93625848 0.93627652 0.93634144 0.93631799 0.9362152  0.93633693\n",
      " 0.93636939 0.93637931 0.93609978 0.93618184 0.93638652 0.93648932]\n",
      "**** STD of accuracy ****\n",
      "train: [1.65140642e-04 2.70438917e-04 1.62807347e-04 3.50636005e-04\n",
      " 1.28056984e-04 7.67440713e-05 1.43599306e-04 1.36274677e-04\n",
      " 1.34187046e-04 3.78838195e-05 1.19363343e-04 1.46334589e-04]\n",
      "test: [0.0011065  0.00100715 0.00098725 0.00100505 0.00072027 0.0007564\n",
      " 0.00080152 0.00095792 0.00082986 0.00082735 0.00086757 0.00091053]\n",
      "**** rank ****\n",
      "[ 9  8  5  7 10  6  4  3 12 11  2  1]\n"
     ]
    }
   ],
   "source": [
    "print \"**** mean of accuracy ****\"\n",
    "print \"train: \"+ str(CV_RF_2.cv_results_['mean_train_score'])\n",
    "print \"test: \" + str(CV_RF_2.cv_results_['mean_test_score'])\n",
    "print \"**** STD of accuracy ****\"\n",
    "print \"train: \" + str(CV_RF_2.cv_results_['std_train_score'])\n",
    "print \"test: \" + str(CV_RF_2.cv_results_['std_test_score'])\n",
    "print \"**** rank ****\"\n",
    "print CV_RF_2.cv_results_['rank_test_score']"
   ]
  },
  {
   "cell_type": "code",
   "execution_count": 87,
   "metadata": {},
   "outputs": [
    {
     "data": {
      "text/plain": [
       "<matplotlib.axes._subplots.AxesSubplot at 0x1213c3610>"
      ]
     },
     "execution_count": 87,
     "metadata": {},
     "output_type": "execute_result"
    },
    {
     "data": {
      "image/png": "[encoded data removed]",
      "text/plain": [
       "<Figure size 432x288 with 1 Axes>"
      ]
     },
     "metadata": {
      "needs_background": "light"
     },
     "output_type": "display_data"
    }
   ],
   "source": [
    "feature_importances_2 = pd.DataFrame(CV_RF_2.best_estimator_.feature_importances_,\n",
    "                                   index = X[top_features].columns,\n",
    "                                    columns=['importance']).sort_values('importance',\n",
    "                                                                        ascending=False)\n",
    "feature_importances_2.plot.bar()"
   ]
  },
  {
   "cell_type": "markdown",
   "metadata": {},
   "source": [
    "### Test set "
   ]
  },
  {
   "cell_type": "markdown",
   "metadata": {},
   "source": [
    "Let's check the performance of the model with test data set."
   ]
  },
  {
   "cell_type": "code",
   "execution_count": 193,
   "metadata": {},
   "outputs": [],
   "source": [
    "test_green = updated_green[updated_green['is_train']==0]\n",
    "test_green = test_green.drop(columns=['is_train'])"
   ]
  },
  {
   "cell_type": "code",
   "execution_count": 194,
   "metadata": {},
   "outputs": [
    {
     "name": "stdout",
     "output_type": "stream",
     "text": [
      "(369480, 33)\n",
      "(1109026, 33)\n"
     ]
    }
   ],
   "source": [
    "print test_green.shape\n",
    "print train_green.shape"
   ]
  },
  {
   "cell_type": "code",
   "execution_count": 195,
   "metadata": {},
   "outputs": [
    {
     "name": "stderr",
     "output_type": "stream",
     "text": [
      "/anaconda3/envs/py2/lib/python2.7/site-packages/ipykernel_launcher.py:2: SettingWithCopyWarning: \n",
      "A value is trying to be set on a copy of a slice from a DataFrame\n",
      "\n",
      "See the caveats in the documentation: http://pandas.pydata.org/pandas-docs/stable/indexing.html#indexing-view-versus-copy\n",
      "  \n",
      "/anaconda3/envs/py2/lib/python2.7/site-packages/ipykernel_launcher.py:3: SettingWithCopyWarning: \n",
      "A value is trying to be set on a copy of a slice from a DataFrame\n",
      "\n",
      "See the caveats in the documentation: http://pandas.pydata.org/pandas-docs/stable/indexing.html#indexing-view-versus-copy\n",
      "  This is separate from the ipykernel package so we can avoid doing imports until\n"
     ]
    }
   ],
   "source": [
    "Y_test = test_green[['tip_percentage']]\n",
    "Y_test.loc[test_green['tip_percentage'] >0 ,'tip_percentage']=1\n",
    "Y_test.loc[test_green['tip_percentage'] == 0 ,'tip_percentage']=0\n",
    "Y_test = Y_test['tip_percentage']\n",
    "X_test = test_green.drop(columns=['tip_percentage'])\n",
    "X_test = X_test[top_features]"
   ]
  },
  {
   "cell_type": "code",
   "execution_count": 196,
   "metadata": {},
   "outputs": [],
   "source": [
    "Y_test_pred = CV_RF_2.best_estimator_.predict(X_test)"
   ]
  },
  {
   "cell_type": "markdown",
   "metadata": {},
   "source": [
    "### Model evaluations "
   ]
  },
  {
   "cell_type": "markdown",
   "metadata": {},
   "source": [
    "I checked the model performance with test data-set"
   ]
  },
  {
   "cell_type": "markdown",
   "metadata": {},
   "source": [
    "#### Confusion matrix"
   ]
  },
  {
   "cell_type": "code",
   "execution_count": 197,
   "metadata": {},
   "outputs": [
    {
     "data": {
      "text/html": [
       "<div>\n",
       "<style scoped>\n",
       "    .dataframe tbody tr th:only-of-type {\n",
       "        vertical-align: middle;\n",
       "    }\n",
       "\n",
       "    .dataframe tbody tr th {\n",
       "        vertical-align: top;\n",
       "    }\n",
       "\n",
       "    .dataframe thead th {\n",
       "        text-align: right;\n",
       "    }\n",
       "</style>\n",
       "<table border=\"1\" class=\"dataframe\">\n",
       "  <thead>\n",
       "    <tr style=\"text-align: right;\">\n",
       "      <th>Predicted</th>\n",
       "      <th>0.0</th>\n",
       "      <th>1.0</th>\n",
       "    </tr>\n",
       "    <tr>\n",
       "      <th>Actual</th>\n",
       "      <th></th>\n",
       "      <th></th>\n",
       "    </tr>\n",
       "  </thead>\n",
       "  <tbody>\n",
       "    <tr>\n",
       "      <th>0.0</th>\n",
       "      <td>198708</td>\n",
       "      <td>21152</td>\n",
       "    </tr>\n",
       "    <tr>\n",
       "      <th>1.0</th>\n",
       "      <td>2069</td>\n",
       "      <td>147551</td>\n",
       "    </tr>\n",
       "  </tbody>\n",
       "</table>\n",
       "</div>"
      ],
      "text/plain": [
       "Predicted     0.0     1.0\n",
       "Actual                   \n",
       "0.0        198708   21152\n",
       "1.0          2069  147551"
      ]
     },
     "execution_count": 197,
     "metadata": {},
     "output_type": "execute_result"
    }
   ],
   "source": [
    "pd.crosstab(Y_test, Y_test_pred, rownames=['Actual'], colnames=['Predicted'])"
   ]
  },
  {
   "cell_type": "code",
   "execution_count": 198,
   "metadata": {},
   "outputs": [
    {
     "name": "stdout",
     "output_type": "stream",
     "text": [
      "accuracy: 0.9371522139222691\n",
      "roc_auc: 0.9321574644616593\n",
      "recall_score: 0.8746198941334772\n",
      "precision_score: 0.9861716348081807\n"
     ]
    }
   ],
   "source": [
    "print \"accuracy:\", metrics.accuracy_score(Y_test_pred,Y_test)\n",
    "print \"roc_auc:\", metrics.roc_auc_score(Y_test_pred,Y_test)\n",
    "print \"recall_score:\", metrics.recall_score(Y_test_pred,Y_test)\n",
    "print \"precision_score:\", metrics.precision_score(Y_test_pred,Y_test)"
   ]
  },
  {
   "cell_type": "markdown",
   "metadata": {},
   "source": [
    "### ROC CURVE "
   ]
  },
  {
   "cell_type": "code",
   "execution_count": 83,
   "metadata": {},
   "outputs": [
    {
     "data": {
      "image/png": "[encoded data removed]",
      "text/plain": [
       "<Figure size 432x288 with 1 Axes>"
      ]
     },
     "metadata": {
      "needs_background": "light"
     },
     "output_type": "display_data"
    }
   ],
   "source": [
    "fpr, tpr, thresholds = roc_curve(Y_test_pred,Y_test)\n",
    "roc_auc = auc(fpr, tpr)\n",
    "\n",
    "plt.figure()\n",
    "plt.plot(fpr, tpr, color='darkorange', lw=1, label='ROC curve (area = %0.2f)' % roc_auc)\n",
    "plt.plot([0, 1], [0, 1], color='navy', lw=1, linestyle='--')\n",
    "plt.xlim([0.0, 1.0])\n",
    "plt.ylim([0.0, 1.05])\n",
    "plt.xlabel('False Positive Rate')\n",
    "plt.ylabel('True Positive Rate')\n",
    "plt.title('Receiver operating characteristic')\n",
    "plt.legend(loc=\"lower right\")\n",
    "plt.show()"
   ]
  },
  {
   "cell_type": "markdown",
   "metadata": {},
   "source": [
    "When we see the accuracy, roc_auc, recall_score, precision_score and ROC_curve, we can see that the performance classification model is decent."
   ]
  },
  {
   "cell_type": "markdown",
   "metadata": {},
   "source": [
    "## Regression Model "
   ]
  },
  {
   "cell_type": "markdown",
   "metadata": {},
   "source": [
    "In the case when tip_percentage > 0.0 %, I will use a regression model to predict tip_percentage."
   ]
  },
  {
   "cell_type": "code",
   "execution_count": 199,
   "metadata": {},
   "outputs": [
    {
     "name": "stderr",
     "output_type": "stream",
     "text": [
      "/anaconda3/envs/py2/lib/python2.7/site-packages/ipykernel_launcher.py:3: SettingWithCopyWarning: \n",
      "A value is trying to be set on a copy of a slice from a DataFrame.\n",
      "Try using .loc[row_indexer,col_indexer] = value instead\n",
      "\n",
      "See the caveats in the documentation: http://pandas.pydata.org/pandas-docs/stable/indexing.html#indexing-view-versus-copy\n",
      "  This is separate from the ipykernel package so we can avoid doing imports until\n"
     ]
    }
   ],
   "source": [
    "train_ratio = 0.75\n",
    "updated_green_1 = updated_green[updated_green['tip_percentage']>0] \n",
    "updated_green_1['is_train'] = np.random.uniform(0, 1, updated_green_1.shape[0]) <= train_ratio \n",
    "train_green_1 = updated_green_1[updated_green_1['is_train']==1]\n",
    "test_green_1 = updated_green_1[updated_green_1['is_train']==0]"
   ]
  },
  {
   "cell_type": "code",
   "execution_count": 200,
   "metadata": {},
   "outputs": [
    {
     "name": "stdout",
     "output_type": "stream",
     "text": [
      "(449915, 34)\n",
      "(149996, 34)\n"
     ]
    }
   ],
   "source": [
    "print train_green_1.shape\n",
    "print test_green_1.shape"
   ]
  },
  {
   "cell_type": "markdown",
   "metadata": {},
   "source": [
    "## Model Training "
   ]
  },
  {
   "cell_type": "markdown",
   "metadata": {},
   "source": [
    "### Hyper-parameter tuning "
   ]
  },
  {
   "cell_type": "markdown",
   "metadata": {},
   "source": [
    "I tried to optimize hyper-paramters (n_estimators, max_depth and min_samples_split) by using gridsearch with 3-fold cross-validation."
   ]
  },
  {
   "cell_type": "code",
   "execution_count": 201,
   "metadata": {},
   "outputs": [],
   "source": [
    "rf_reg = RandomForestRegressor(n_jobs=-1,n_estimators=50, max_depth= 10, min_samples_split=10) \n",
    "\n",
    "param_grid = { \n",
    "    'n_estimators': [50,60],\n",
    "    'max_depth' : [10,20,50],\n",
    "    'min_samples_split' : [10,20]\n",
    "}\n",
    "\n",
    "\n",
    "Y = train_green_1['tip_percentage']\n",
    "X = train_green_1.drop(columns=['tip_percentage','is_train'])"
   ]
  },
  {
   "cell_type": "code",
   "execution_count": 202,
   "metadata": {},
   "outputs": [
    {
     "data": {
      "text/plain": [
       "GridSearchCV(cv=3, error_score='raise-deprecating',\n",
       "       estimator=RandomForestRegressor(bootstrap=True, criterion='mse', max_depth=10,\n",
       "           max_features='auto', max_leaf_nodes=None,\n",
       "           min_impurity_decrease=0.0, min_impurity_split=None,\n",
       "           min_samples_leaf=1, min_samples_split=10,\n",
       "           min_weight_fraction_leaf=0.0, n_estimators=50, n_jobs=-1,\n",
       "           oob_score=False, random_state=None, verbose=0, warm_start=False),\n",
       "       fit_params=None, iid='warn', n_jobs=None,\n",
       "       param_grid={'n_estimators': [50, 60], 'min_samples_split': [10, 20], 'max_depth': [10, 20, 50]},\n",
       "       pre_dispatch='2*n_jobs', refit=True, return_train_score='warn',\n",
       "       scoring='neg_mean_squared_error', verbose=0)"
      ]
     },
     "execution_count": 202,
     "metadata": {},
     "output_type": "execute_result"
    }
   ],
   "source": [
    "CV_RF_REG_2 = GridSearchCV(estimator=rf_reg, param_grid=param_grid, scoring='neg_mean_squared_error',cv = 3)\n",
    "CV_RF_REG_2.fit(X, Y)"
   ]
  },
  {
   "cell_type": "code",
   "execution_count": 203,
   "metadata": {},
   "outputs": [
    {
     "name": "stdout",
     "output_type": "stream",
     "text": [
      "{'min_samples_split': 20, 'n_estimators': 60, 'max_depth': 20}\n"
     ]
    }
   ],
   "source": [
    "print CV_RF_REG_2.best_params_"
   ]
  },
  {
   "cell_type": "markdown",
   "metadata": {},
   "source": [
    "#### GridSearhCV result "
   ]
  },
  {
   "cell_type": "markdown",
   "metadata": {},
   "source": [
    "1. Best hyper-parameter: **{'min_samples_split': 20, 'n_estimators': 60, 'max_depth': 10}**\n",
    "2. Mean of train Mean Squared Error in 3 fold CV:  ***0.00229879*** \n",
    "3. Mean of test Mean Squared Error in 3 fold CV: ***0.00246324***\n",
    "4. Standard deviation of mean squred errors of training data in 3 fold CV: ***1.88176747e-05***\n",
    "5. Standard deviation of mean squred errors of test data in 3 fold CV: ***6.03115343e-05***"
   ]
  },
  {
   "cell_type": "markdown",
   "metadata": {},
   "source": [
    "We can see that MSE of test and train are not really different. But I will also try to build a model with less features with high feature importances."
   ]
  },
  {
   "cell_type": "code",
   "execution_count": 156,
   "metadata": {},
   "outputs": [
    {
     "name": "stdout",
     "output_type": "stream",
     "text": [
      "**** mean of accuracy ****\n",
      "[-0.00227123 -0.00226802 -0.00229833 -0.00229879 -0.00170571 -0.00170108\n",
      " -0.00184323 -0.00184068 -0.00080139 -0.00079727 -0.00116108 -0.00115739]\n",
      "[-0.00246396 -0.00246665 -0.00246466 -0.00246324 -0.00248612 -0.00248811\n",
      " -0.00247985 -0.00247893 -0.00250802 -0.00251096 -0.00250164 -0.00249858]\n",
      "**** sd of accuracy ****\n",
      "[1.75989901e-05 1.50826081e-05 1.98849593e-05 1.88176747e-05\n",
      " 2.01748861e-05 1.85131543e-05 1.99334351e-05 1.88299141e-05\n",
      " 7.60678769e-06 8.73355686e-06 8.99427089e-06 1.07399052e-05]\n",
      "[6.26140863e-05 5.95072647e-05 5.45682846e-05 6.03115343e-05\n",
      " 8.32778519e-05 9.41492779e-05 8.24981769e-05 8.46795758e-05\n",
      " 8.08910967e-05 9.71058169e-05 1.02849052e-04 1.01329885e-04]\n",
      "**** rank ****\n",
      "[ 2  4  3  1  7  8  6  5 11 12 10  9]\n"
     ]
    }
   ],
   "source": [
    "print \"**** mean of accuracy ****\"\n",
    "print CV_RF_REG_2.cv_results_['mean_train_score']\n",
    "print CV_RF_REG_2.cv_results_['mean_test_score']\n",
    "print \"**** sd of accuracy ****\"\n",
    "print str(CV_RF_REG_2.cv_results_['std_train_score'])\n",
    "print str(CV_RF_REG_2.cv_results_['std_test_score'])\n",
    "print \"**** rank ****\"\n",
    "print CV_RF_REG_2.cv_results_['rank_test_score']"
   ]
  },
  {
   "cell_type": "code",
   "execution_count": 204,
   "metadata": {},
   "outputs": [
    {
     "data": {
      "text/html": [
       "<div>\n",
       "<style scoped>\n",
       "    .dataframe tbody tr th:only-of-type {\n",
       "        vertical-align: middle;\n",
       "    }\n",
       "\n",
       "    .dataframe tbody tr th {\n",
       "        vertical-align: top;\n",
       "    }\n",
       "\n",
       "    .dataframe thead th {\n",
       "        text-align: right;\n",
       "    }\n",
       "</style>\n",
       "<table border=\"1\" class=\"dataframe\">\n",
       "  <thead>\n",
       "    <tr style=\"text-align: right;\">\n",
       "      <th></th>\n",
       "      <th>importance</th>\n",
       "    </tr>\n",
       "  </thead>\n",
       "  <tbody>\n",
       "    <tr>\n",
       "      <th>Fare_amount</th>\n",
       "      <td>0.487374</td>\n",
       "    </tr>\n",
       "    <tr>\n",
       "      <th>Dropoff_latitude</th>\n",
       "      <td>0.079837</td>\n",
       "    </tr>\n",
       "    <tr>\n",
       "      <th>Pickup_latitude</th>\n",
       "      <td>0.078618</td>\n",
       "    </tr>\n",
       "    <tr>\n",
       "      <th>Dropoff_longitude</th>\n",
       "      <td>0.071022</td>\n",
       "    </tr>\n",
       "    <tr>\n",
       "      <th>Pickup_longitude</th>\n",
       "      <td>0.062286</td>\n",
       "    </tr>\n",
       "    <tr>\n",
       "      <th>trip_times</th>\n",
       "      <td>0.055165</td>\n",
       "    </tr>\n",
       "    <tr>\n",
       "      <th>Trip_distance</th>\n",
       "      <td>0.050765</td>\n",
       "    </tr>\n",
       "    <tr>\n",
       "      <th>lpep_pickup_day</th>\n",
       "      <td>0.026054</td>\n",
       "    </tr>\n",
       "    <tr>\n",
       "      <th>improvement_surcharge</th>\n",
       "      <td>0.018658</td>\n",
       "    </tr>\n",
       "    <tr>\n",
       "      <th>lpep_dropoff_hour</th>\n",
       "      <td>0.012193</td>\n",
       "    </tr>\n",
       "    <tr>\n",
       "      <th>lpep_pickup_weekday</th>\n",
       "      <td>0.010403</td>\n",
       "    </tr>\n",
       "    <tr>\n",
       "      <th>lpep_pickup_hour</th>\n",
       "      <td>0.008541</td>\n",
       "    </tr>\n",
       "    <tr>\n",
       "      <th>tpep_pickup_hour</th>\n",
       "      <td>0.008194</td>\n",
       "    </tr>\n",
       "    <tr>\n",
       "      <th>RateCodeID_1</th>\n",
       "      <td>0.007632</td>\n",
       "    </tr>\n",
       "    <tr>\n",
       "      <th>Passenger_count</th>\n",
       "      <td>0.007530</td>\n",
       "    </tr>\n",
       "    <tr>\n",
       "      <th>Extra</th>\n",
       "      <td>0.005888</td>\n",
       "    </tr>\n",
       "    <tr>\n",
       "      <th>Tolls_amount</th>\n",
       "      <td>0.003900</td>\n",
       "    </tr>\n",
       "    <tr>\n",
       "      <th>RateCodeID_5</th>\n",
       "      <td>0.002372</td>\n",
       "    </tr>\n",
       "    <tr>\n",
       "      <th>Trip_type</th>\n",
       "      <td>0.000860</td>\n",
       "    </tr>\n",
       "    <tr>\n",
       "      <th>RateCodeID_2</th>\n",
       "      <td>0.000723</td>\n",
       "    </tr>\n",
       "  </tbody>\n",
       "</table>\n",
       "</div>"
      ],
      "text/plain": [
       "                       importance\n",
       "Fare_amount              0.487374\n",
       "Dropoff_latitude         0.079837\n",
       "Pickup_latitude          0.078618\n",
       "Dropoff_longitude        0.071022\n",
       "Pickup_longitude         0.062286\n",
       "trip_times               0.055165\n",
       "Trip_distance            0.050765\n",
       "lpep_pickup_day          0.026054\n",
       "improvement_surcharge    0.018658\n",
       "lpep_dropoff_hour        0.012193\n",
       "lpep_pickup_weekday      0.010403\n",
       "lpep_pickup_hour         0.008541\n",
       "tpep_pickup_hour         0.008194\n",
       "RateCodeID_1             0.007632\n",
       "Passenger_count          0.007530\n",
       "Extra                    0.005888\n",
       "Tolls_amount             0.003900\n",
       "RateCodeID_5             0.002372\n",
       "Trip_type                0.000860\n",
       "RateCodeID_2             0.000723"
      ]
     },
     "execution_count": 204,
     "metadata": {},
     "output_type": "execute_result"
    }
   ],
   "source": [
    "feature_importances_REG = pd.DataFrame(CV_RF_REG_2.best_estimator_.feature_importances_,\n",
    "                                   index = X.columns,\n",
    "                                    columns=['importance']).sort_values('importance',\n",
    "                                                                        ascending=False)\n",
    "feature_importances_REG.head(20)"
   ]
  },
  {
   "cell_type": "code",
   "execution_count": 150,
   "metadata": {},
   "outputs": [
    {
     "data": {
      "text/plain": [
       "count    34.000000\n",
       "mean      0.029412\n",
       "std       0.122381\n",
       "min       0.000000\n",
       "25%       0.000077\n",
       "50%       0.002494\n",
       "75%       0.005211\n",
       "max       0.716706\n",
       "Name: importance, dtype: float64"
      ]
     },
     "execution_count": 150,
     "metadata": {},
     "output_type": "execute_result"
    }
   ],
   "source": [
    "feature_importances_REG['importance'].describe()"
   ]
  },
  {
   "cell_type": "code",
   "execution_count": 205,
   "metadata": {},
   "outputs": [],
   "source": [
    "top_features_reg = feature_importances_REG.reset_index().head(10)['index'].tolist()"
   ]
  },
  {
   "cell_type": "code",
   "execution_count": 206,
   "metadata": {},
   "outputs": [],
   "source": [
    "from sklearn.metrics import mean_squared_error"
   ]
  },
  {
   "cell_type": "code",
   "execution_count": 207,
   "metadata": {},
   "outputs": [
    {
     "data": {
      "text/plain": [
       "GridSearchCV(cv=3, error_score='raise-deprecating',\n",
       "       estimator=RandomForestRegressor(bootstrap=True, criterion='mse', max_depth=10,\n",
       "           max_features='auto', max_leaf_nodes=None,\n",
       "           min_impurity_decrease=0.0, min_impurity_split=None,\n",
       "           min_samples_leaf=1, min_samples_split=10,\n",
       "           min_weight_fraction_leaf=0.0, n_estimators=50, n_jobs=-1,\n",
       "           oob_score=False, random_state=None, verbose=0, warm_start=False),\n",
       "       fit_params=None, iid='warn', n_jobs=None,\n",
       "       param_grid={'n_estimators': [50, 60], 'min_samples_split': [10, 20], 'max_depth': [10, 20, 50]},\n",
       "       pre_dispatch='2*n_jobs', refit=True, return_train_score='warn',\n",
       "       scoring='neg_mean_squared_error', verbose=0)"
      ]
     },
     "execution_count": 207,
     "metadata": {},
     "output_type": "execute_result"
    }
   ],
   "source": [
    "CV_RF_reg_2_1 = GridSearchCV(estimator = rf_reg, param_grid=param_grid, scoring='neg_mean_squared_error',cv = 3)\n",
    "CV_RF_reg_2_1.fit(X[top_features_reg], Y)"
   ]
  },
  {
   "cell_type": "code",
   "execution_count": 208,
   "metadata": {},
   "outputs": [
    {
     "name": "stdout",
     "output_type": "stream",
     "text": [
      "{'min_samples_split': 20, 'n_estimators': 60, 'max_depth': 20}\n"
     ]
    }
   ],
   "source": [
    "print CV_RF_reg_2_1.best_params_"
   ]
  },
  {
   "cell_type": "markdown",
   "metadata": {},
   "source": [
    "#### GridSearchCV result "
   ]
  },
  {
   "cell_type": "markdown",
   "metadata": {},
   "source": [
    "1. Best hyper-parameter: **{'min_samples_split': 20, 'n_estimators': 50, 'max_depth': 10}**\n",
    "2. Mean of train Mean Squared Error in 3 fold CV:  ***0.00230789*** \n",
    "3. Mean of test Mean Squared Error in 3 fold CV: ***0.00246292***\n",
    "4. Standard deviation of mean squred errors of training data in 3 fold CV: ***1.86101962e-05***\n",
    "5. Standard deviation of mean squred errors of test data in 3 fold CV: ***5.31945993e-05***"
   ]
  },
  {
   "cell_type": "markdown",
   "metadata": {},
   "source": [
    "We can see the performance of the model is slightly better than the previous one. "
   ]
  },
  {
   "cell_type": "code",
   "execution_count": 164,
   "metadata": {},
   "outputs": [
    {
     "name": "stdout",
     "output_type": "stream",
     "text": [
      "**** mean of accuracy ****\n",
      "[-0.00227898 -0.00227765 -0.00230789 -0.00230719 -0.00173834 -0.00173831\n",
      " -0.00187503 -0.0018725  -0.00082859 -0.00082513 -0.00119187 -0.00118798]\n",
      "[-0.00246897 -0.00246292 -0.00246255 -0.00246627 -0.0024888  -0.00247956\n",
      " -0.00248301 -0.00247702 -0.00253271 -0.0025181  -0.002505   -0.00250908]\n",
      "**** STD of accuracy ****\n",
      "[1.68005725e-05 1.65945313e-05 1.86101962e-05 1.85794109e-05\n",
      " 1.83046477e-05 1.76208081e-05 1.90924129e-05 2.15471520e-05\n",
      " 8.52238848e-06 8.21690966e-06 1.19843960e-05 1.19304143e-05]\n",
      "[5.61074454e-05 5.07832711e-05 5.31945993e-05 5.32103959e-05\n",
      " 8.27996736e-05 7.49641070e-05 7.88713475e-05 7.27213652e-05\n",
      " 9.59766104e-05 8.47425636e-05 7.96931061e-05 9.09656549e-05]\n",
      "**** rank ****\n",
      "[ 4  2  1  3  8  6  7  5 12 11  9 10]\n"
     ]
    }
   ],
   "source": [
    "print \"**** mean of accuracy ****\"\n",
    "print str(CV_RF_reg_2_1.cv_results_['mean_train_score'])\n",
    "print str(CV_RF_reg_2_1.cv_results_['mean_test_score'])\n",
    "print \"**** STD of accuracy ****\"\n",
    "print str(CV_RF_reg_2_1.cv_results_['std_train_score'])\n",
    "print str(CV_RF_reg_2_1.cv_results_['std_test_score'])\n",
    "print \"**** rank ****\"\n",
    "print CV_RF_reg_2_1.cv_results_['rank_test_score']"
   ]
  },
  {
   "cell_type": "code",
   "execution_count": 165,
   "metadata": {},
   "outputs": [
    {
     "data": {
      "text/plain": [
       "<matplotlib.axes._subplots.AxesSubplot at 0x125f33bd0>"
      ]
     },
     "execution_count": 165,
     "metadata": {},
     "output_type": "execute_result"
    },
    {
     "data": {
      "image/png": "[encoded data removed]",
      "text/plain": [
       "<Figure size 432x288 with 1 Axes>"
      ]
     },
     "metadata": {
      "needs_background": "light"
     },
     "output_type": "display_data"
    }
   ],
   "source": [
    "feature_importances_reg_2 = pd.DataFrame(CV_RF_reg_2_1.best_estimator_.feature_importances_,\n",
    "                                   index = X[top_features_reg].columns,\n",
    "                                    columns=['importance']).sort_values('importance',\n",
    "                                                                        ascending=False)\n",
    "feature_importances_reg_2.plot.bar()"
   ]
  },
  {
   "cell_type": "markdown",
   "metadata": {},
   "source": [
    "## Test set "
   ]
  },
  {
   "cell_type": "markdown",
   "metadata": {},
   "source": [
    "Let's check the performance of the model with test-data set."
   ]
  },
  {
   "cell_type": "code",
   "execution_count": 166,
   "metadata": {},
   "outputs": [
    {
     "name": "stdout",
     "output_type": "stream",
     "text": [
      "(149908, 36)\n",
      "(450003, 36)\n"
     ]
    }
   ],
   "source": [
    "print test_green_1.shape\n",
    "print train_green_1.shape"
   ]
  },
  {
   "cell_type": "code",
   "execution_count": 167,
   "metadata": {},
   "outputs": [],
   "source": [
    "Y_test_reg = test_green_1['tip_percentage']\n",
    "X_test_reg = test_green_1.drop(columns=['tip_percentage','is_train'])"
   ]
  },
  {
   "cell_type": "markdown",
   "metadata": {},
   "source": [
    "## Model evaluation "
   ]
  },
  {
   "cell_type": "markdown",
   "metadata": {},
   "source": [
    "I checked the performance of a regression model with the following metrics.\n",
    "1. MSE (mean squared error) \n",
    "2. MAP  (mean ablosute error)\n",
    "3. R squared"
   ]
  },
  {
   "cell_type": "code",
   "execution_count": 168,
   "metadata": {},
   "outputs": [],
   "source": [
    "Y_test_reg_pred = CV_RF_reg_2_1.best_estimator_.predict(X_test_reg[top_features_reg])"
   ]
  },
  {
   "cell_type": "code",
   "execution_count": 169,
   "metadata": {},
   "outputs": [
    {
     "name": "stdout",
     "output_type": "stream",
     "text": [
      "MSE: 0.002500022140814859\n",
      "MAP: 0.03156320460206166\n",
      "R2: 0.24447052606960895\n"
     ]
    }
   ],
   "source": [
    "from sklearn.metrics import mean_absolute_error\n",
    "from sklearn.metrics import r2_score\n",
    "print \"MSE: \" + str(mean_squared_error(Y_test_reg, Y_test_reg_pred)) \n",
    "print \"MAE: \" + str(mean_absolute_error(Y_test_reg, Y_test_reg_pred))\n",
    "print \"R2: \" + str(r2_score(Y_test_reg, Y_test_reg_pred))"
   ]
  },
  {
   "cell_type": "code",
   "execution_count": 170,
   "metadata": {},
   "outputs": [
    {
     "data": {
      "text/plain": [
       "count    149908.000000\n",
       "mean          0.164428\n",
       "std           0.057524\n",
       "min           0.000083\n",
       "25%           0.159744\n",
       "50%           0.166667\n",
       "75%           0.166707\n",
       "max           1.000000\n",
       "Name: tip_percentage, dtype: float64"
      ]
     },
     "execution_count": 170,
     "metadata": {},
     "output_type": "execute_result"
    }
   ],
   "source": [
    "Y_test_reg.describe()"
   ]
  },
  {
   "cell_type": "markdown",
   "metadata": {},
   "source": [
    "## Final model "
   ]
  },
  {
   "cell_type": "markdown",
   "metadata": {},
   "source": [
    "Final model should have the following process.\n",
    "\n",
    "1. Predict whether a passenger pay tip or not by using a binary classification model (tips = 1/ no tips = 0). \n",
    "2. For the test set whose predicted value from step 1 is **1**, estimate tip percentage by using a regression model (Predict tip percentage when tip percentage > 0 ).  \n",
    "3. Check the performance of result with using mean squared error, mean absolute error and R-squared. \n"
   ]
  },
  {
   "cell_type": "code",
   "execution_count": 184,
   "metadata": {},
   "outputs": [],
   "source": [
    "def model_fit(classfication_model, regression_model, test_input, target_name,top_features, top_features_reg):\n",
    "    \n",
    "    #get classification prediction result\n",
    "    test_input_feature_class = test_input.drop(columns=[target_name])    \n",
    "    Y_test_class_pred = classfication_model.best_estimator_.predict(test_input_feature_class[top_features])\n",
    "   \n",
    "    #Extract the training data when pred = 1\n",
    "    test_input_reg = test_input[Y_test_class_pred == 1]\n",
    "    \n",
    "    #actual value of target feature which is predicted as 0 \n",
    "    Y_act_class = test_input[Y_test_class_pred == 0][target_name]\n",
    "    Y_pred_class =Y_test_class_pred[Y_test_class_pred == 0]\n",
    "    \n",
    "    output1 = {\"Y_act\": Y_act_class, \"Y_pred\":Y_pred_class}\n",
    "    classification_output = pd.DataFrame(data = output1)\n",
    "    \n",
    "    Y_act_reg = test_input_reg[target_name]\n",
    "    test_input_feature_reg = test_input_reg.drop(columns=[target_name])  \n",
    "    \n",
    "    Y_test_reg_pred = regression_model.best_estimator_.predict(test_input_feature_reg[top_features_reg])\n",
    "    print Y_test_reg_pred\n",
    "    output2 = {\"Y_act\": Y_act_reg, \"Y_pred\":Y_test_reg_pred}    \n",
    "    reg_output = pd.DataFrame(data = output2)\n",
    "    \n",
    "    final_output = pd.concat([classification_output,reg_output],ignore_index=True)\n",
    "    \n",
    "    return final_output\n",
    "    \n",
    "    "
   ]
  },
  {
   "cell_type": "code",
   "execution_count": 209,
   "metadata": {},
   "outputs": [
    {
     "name": "stdout",
     "output_type": "stream",
     "text": [
      "[0.21273526 0.17324298 0.17588869 ... 0.17199927 0.16073712 0.1734616 ]\n"
     ]
    }
   ],
   "source": [
    "fianl_output = model_fit(CV_RF_2, CV_RF_reg_2_1, test_green,'tip_percentage' ,top_features, top_features_reg)"
   ]
  },
  {
   "cell_type": "code",
   "execution_count": 210,
   "metadata": {},
   "outputs": [
    {
     "name": "stdout",
     "output_type": "stream",
     "text": [
      "MSE: 0.002577996383330058\n",
      "MAP: 0.02202952220835794\n",
      "R2: 0.6699831892230544\n"
     ]
    }
   ],
   "source": [
    "print \"MSE: \" + str(mean_squared_error(fianl_output['Y_act'], fianl_output['Y_pred'])) \n",
    "print \"MAP: \" + str(mean_absolute_error(fianl_output['Y_act'], fianl_output['Y_pred']))\n",
    "print \"R2: \" + str(r2_score(fianl_output['Y_act'], fianl_output['Y_pred']))"
   ]
  },
  {
   "cell_type": "markdown",
   "metadata": {},
   "source": [
    "When we check the MSE, MAP and R-squared, I think the performance of predictive model could be improved with some future works."
   ]
  },
  {
   "cell_type": "markdown",
   "metadata": {},
   "source": [
    "## Future works "
   ]
  },
  {
   "cell_type": "markdown",
   "metadata": {},
   "source": [
    "If I have more time I will work on following things to improve the performance of the model.\n",
    "1. **Feature Extraction and Selection** : I will try to spend more time for data analysis of input features and try to derive and select features to improve the performance of the model\n",
    "2. **Hyper-parameter Tunning** : I will try more hyper-parameter to imporve the model performance.\n",
    "3. **Build additional models** : I will try to build addtional ML models and compare the performances of them \n",
    "\n"
   ]
  },
  {
   "cell_type": "code",
   "execution_count": null,
   "metadata": {},
   "outputs": [],
   "source": []
  }
 ],
 "metadata": {
  "kernelspec": {
   "display_name": "Python 2",
   "language": "python",
   "name": "python2"
  },
  "language_info": {
   "codemirror_mode": {
    "name": "ipython",
    "version": 2
   },
   "file_extension": ".py",
   "mimetype": "text/x-python",
   "name": "python",
   "nbconvert_exporter": "python",
   "pygments_lexer": "ipython2",
   "version": "2.7.15"
  }
 },
 "nbformat": 4,
 "nbformat_minor": 2
}
